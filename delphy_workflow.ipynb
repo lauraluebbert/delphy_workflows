{
  "cells": [
    {
      "cell_type": "markdown",
      "metadata": {
        "id": "view-in-github",
        "colab_type": "text"
      },
      "source": [
        "<a href=\"https://colab.research.google.com/github/lauraluebbert/delphy_workflows/blob/main/delphy_workflow.ipynb\" target=\"_parent\"><img src=\"https://colab.research.google.com/assets/colab-badge.svg\" alt=\"Open In Colab\"/></a>"
      ]
    },
    {
      "cell_type": "markdown",
      "metadata": {
        "id": "ej4vLF8GBtT_"
      },
      "source": [
        "# Delphy workflow\n",
        "___"
      ]
    },
    {
      "cell_type": "markdown",
      "source": [
        "## 1. Select your virus of interest and apply filters to the genomes downloaded from NCBI virus"
      ],
      "metadata": {
        "id": "sWOSpHI-iGVO"
      }
    },
    {
      "cell_type": "code",
      "source": [
        "virus = '208895'             # Examples: 'Mammarenavirus lassaense' or 'coronaviridae' or 'NC_045512.2' or '142786' (Norovirus taxid)\n",
        "accession = False                  # If 'virus' is an NCBI accession instead of a taxon (e.g. 'NC_045512.2'), set this to True\n",
        "\n",
        "# Commonly used filtering options (set any filter to None to turn off the filter):\n",
        "host = 'homo sapiens'             # Example: 'homo sapiens' (alternatively: use the host_taxid filter below)\n",
        "min_seq_length = None             # Example: 6252\n",
        "max_seq_length = None             # Example: 7815\n",
        "\n",
        "has_proteins = None               # Example: 'GPC' or 'L' or ['GPC', 'L'] (also accepts genes or segments)\n",
        "proteins_complete = False         # True or False (indicates whether the proteins/genes/segments in has_proteins should be marked 'complete')\n",
        "\n",
        "geographic_location = None        # Example: 'South_Africa' or 'Germany'\n",
        "min_collection_date = None        # Example: '2000-01-01'\n",
        "max_collection_date = None        # Example: '2014-12-04'\n",
        "max_ambiguous_chars = None        # Example: 10\n",
        "\n",
        "# Additional filtering options:\n",
        "min_gene_count = None             # Example: 1\n",
        "max_gene_count = None             # Example: 40\n",
        "nuc_completeness = 'complete'           # 'partial' or 'complete'\n",
        "host_taxid = None                 # Example: 9443 (NCBI Taxonomy ID of all primates)\n",
        "lab_passaged = None               # True or False (indicates whether the virus sequence has been passaged in a laboratory setting)\n",
        "geographic_region = None          # Example: 'Africa' or 'Europe'\n",
        "submitter_country = None          # Example: 'South_Africa' or 'Germany'\n",
        "annotated = None                  # True or False (indicates whether the virus genome sequence should be annotated)\n",
        "source_database = None            # Example: 'GenBank' or 'RefSeq'\n",
        "min_release_date = None           # Example: '2000-01-01'\n",
        "max_release_date = None           # Example: '2014-12-04'\n",
        "min_mature_peptide_count = None   # Example: 2\n",
        "max_mature_peptide_count = None   # Example: 15\n",
        "min_protein_count = None          # Example: 2\n",
        "max_protein_count = None          # Example: 15"
      ],
      "metadata": {
        "id": "HLEVMl9WBgzh"
      },
      "execution_count": 9,
      "outputs": []
    },
    {
      "cell_type": "markdown",
      "source": [
        "## 2. Optional: Upload a fasta file with your own sequences to add to the analysis\n",
        "  1) Click on the folder icon on the left  \n",
        "  2) Upload your file(s) to the Google Colab server by dragging in your file(s) (or use rightclick -> Upload)  \n",
        "  3) Specify the name of your file(s) here:"
      ],
      "metadata": {
        "id": "aE8ot-AyiPdC"
      }
    },
    {
      "cell_type": "code",
      "source": [
        "fasta_file = None        # Example: 'my_fasta_file.fa' or 'my_fasta_file.fasta'\n",
        "\n",
        "# If the metadata is the same for all sequences in your fasta file, enter the metadata here\n",
        "# You have to enter a Collection Date. In addition, you can add as many additional columns as you wish, e.g. \"Geo Location\": \"South Korea\".\n",
        "# Use NCBI column names where applicable, e.g. see https://www.ncbi.nlm.nih.gov/labs/virus/vssi/#/virus\n",
        "metadata = {\n",
        "    \"Collection Date\": \"YYYY-MM-DD\",\n",
        "    \"Extra column 1\": \"Value\",\n",
        "    # ...\n",
        "}\n",
        "\n",
        "# Alternative: Upload a csv file containing the metadata\n",
        "# This file has to include at least a \"Accession\" and a \"Collection Date\" column\n",
        "# Make sure the IDs in the \"Accession\" column match the IDs of the sequences in the fasta\n",
        "# Use NCBI column names where applicable, e.g. see https://www.ncbi.nlm.nih.gov/labs/virus/vssi/#/virus\n",
        "metadata_csv = None       # Example: 'my_metadata.csv'"
      ],
      "metadata": {
        "id": "LKgxMFBgiP64"
      },
      "execution_count": 3,
      "outputs": []
    },
    {
      "cell_type": "markdown",
      "source": [
        "## 3. Click on 'Runtime' -> 'Run all' and lean back\n",
        "___"
      ],
      "metadata": {
        "id": "UTL55NF2jAj-"
      }
    },
    {
      "cell_type": "markdown",
      "metadata": {
        "id": "GAljcjWNxssy"
      },
      "source": [
        "### Installing gget:"
      ]
    },
    {
      "cell_type": "code",
      "execution_count": 4,
      "metadata": {
        "id": "DagUmlWZvTfz",
        "outputId": "95fba655-0e8f-4110-95bc-d0ece3b39dd7",
        "colab": {
          "base_uri": "https://localhost:8080/"
        }
      },
      "outputs": [
        {
          "output_type": "stream",
          "name": "stdout",
          "text": [
            "\u001b[2K   \u001b[90m━━━━━━━━━━━━━━━━━━━━━━━━━━━━━━━━━━━━━━━━\u001b[0m \u001b[32m25.2/25.2 MB\u001b[0m \u001b[31m64.9 MB/s\u001b[0m eta \u001b[36m0:00:00\u001b[0m\n",
            "\u001b[2K   \u001b[90m━━━━━━━━━━━━━━━━━━━━━━━━━━━━━━━━━━━━━━━━\u001b[0m \u001b[32m3.2/3.2 MB\u001b[0m \u001b[31m60.8 MB/s\u001b[0m eta \u001b[36m0:00:00\u001b[0m\n",
            "\u001b[?25h  Preparing metadata (setup.py) ... \u001b[?25l\u001b[?25hdone\n",
            "  Building wheel for gget (setup.py) ... \u001b[?25l\u001b[?25hdone\n"
          ]
        }
      ],
      "source": [
        "# After the release, this will just be: pip install gget\n",
        "!pip install -q mysql-connector-python==8.0.29 biopython\n",
        "!pip install -q --log log git+https://github.com/pachterlab/gget.git@delphy_dev\n",
        "\n",
        "import gget"
      ]
    },
    {
      "cell_type": "markdown",
      "metadata": {
        "id": "GLnuvH8Xx-jr"
      },
      "source": [
        "Full descriptions for the filtering options:"
      ]
    },
    {
      "cell_type": "code",
      "execution_count": 5,
      "metadata": {
        "id": "ZihmEChGx9j6",
        "outputId": "ac04b9e2-abdb-4f27-a920-1846c9901492",
        "colab": {
          "base_uri": "https://localhost:8080/"
        }
      },
      "outputs": [
        {
          "output_type": "stream",
          "name": "stdout",
          "text": [
            "Help on function ncbi_virus in module gget.gget_ncbi_virus:\n",
            "\n",
            "ncbi_virus(virus, accession=False, outfolder=None, host=None, min_seq_length=None, max_seq_length=None, min_gene_count=None, max_gene_count=None, nuc_completeness=None, has_proteins=None, proteins_complete=False, host_taxid=None, lab_passaged=None, geographic_region=None, geographic_location=None, submitter_country=None, min_collection_date=None, max_collection_date=None, annotated=None, source_database=None, min_release_date=None, max_release_date=None, min_mature_peptide_count=None, max_mature_peptide_count=None, min_protein_count=None, max_protein_count=None, max_ambiguous_chars=None)\n",
            "    Download a virus genome dataset from the NCBI Virus database (https://www.ncbi.nlm.nih.gov/labs/virus/).\n",
            "    \n",
            "    Args:\n",
            "    - virus                Virus taxon or accession, e.g. 'Norovirus' or 'coronaviridae' or\n",
            "                           '11320' (taxid of Influenza A virus) or 'NC_045512.2'\n",
            "                           If this input is a virus NCBI accession (e.g. 'NC_045512.2'), set accession = True.\n",
            "    - accession            True/False whether 'virus' is an accession. Default: False\n",
            "    - outfolder            Path to folder to save the requested data in, e.g. 'path/to/norovirus_folder'.\n",
            "                           Default: None (saves output into current working directory)\n",
            "    \n",
            "    Filters:\n",
            "    - host                 Host organism, e.g. 'homo sapiens'. Default: None\n",
            "    - min_seq_length       Min length of the returned sequences, e.g. 6252. Default: None\n",
            "    - max_seq_length       Max length of the returned sequences, e.g. 7500. Default: None\n",
            "    - min_gene_count       Min number of genes present in the virus genome, e.g. 1. Default: None\n",
            "    - max_gene_count       Max number of genes present in the virus genome, e.g. 40. Default: None\n",
            "    - nuc_completeness     Completeness status of the nucleotide sequence. Should be 'partial' or 'complete'. Default: None\n",
            "    - has_proteins         Str or list of proteins, genes, or segments that should be present in the sequence\n",
            "                           (based on sequence annotation provided by the submitter). Default: None\n",
            "                           Note: Set proteins_complete=True to only include sequences for which the proteins/genes/segments are marked 'complete'\n",
            "    - proteins_complete    True/False whether proteins/genes/segments in has_proteins should be marked as complete. Default: False\n",
            "    - host_taxid           NCBI Taxonomy ID of the host organism. Filters the results to only include viruses\n",
            "                           associated with hosts that fall within the specified TaxID. Default: None\n",
            "    - lab_passaged         True/False Indicates whether the virus sequence has been passaged in a laboratory setting.\n",
            "                           Default: None\n",
            "    - geographic_region    The geographic region where the virus was identified or isolated, e.g. 'Africa' or 'Europe'.\n",
            "                           Default: None\n",
            "    - geographic_location  The specific geographic location (e.g., country or area) where the virus was identified or\n",
            "                           isolated, e.g. 'South_Africa'. Default: None\n",
            "    - submitter_country    The country of the submitter of the virus sequence data. Filters results by the specified country,\n",
            "                           e.g. 'South_Africa' or 'Germany'. Default: None\n",
            "    - min_collection_date  The earliest collection date (in 'YYYY-MM-DD' format). Samples collected before this date will be\n",
            "                           excluded. Example: '2000-01-01'.  Default: None\n",
            "    - max_collection_date  The latest collection date (in 'YYYY-MM-DD' format). Samples collected after this date will be\n",
            "                           excluded. Example: '2014-12-04'. Default: None\n",
            "    - annotated            True/False Indicates whether the virus genome sequence is annotated. Default: None\n",
            "    - source_database      The source database from which the virus sequences originate, e.g. 'GenBank'.\n",
            "                           Default: None\n",
            "    - min_release_date     The earliest release date (in 'YYYY-MM-DD' format) of the virus sequence data. Sequences released\n",
            "                           before this date will be excluded. Default: None\n",
            "    - max_release_date     The latest release date (in 'YYYY-MM-DD' format) of the virus sequence data. Sequences released\n",
            "                           after this date will be excluded. Default: None\n",
            "    - min_mature_peptide_count    Min number of mature peptides present in the virus genome. Default: None\n",
            "    - max_mature_peptide_count    Max number of mature peptides present in the virus genome. Default: None\n",
            "    - min_protein_count    Min number of proteins present in the virus genome. Default: None\n",
            "    - max_protein_count    Max number of proteins present in the virus genome. Default: None\n",
            "    - max_ambiguous_chars  Max number of ambiguous nucleotide characters ('n' or 'N') allowed in the sequences, e.g. 50.\n",
            "                           Default: None\n",
            "    \n",
            "    Returns a fasta file containing the requested sequences and .csv and .jsonl files containing the associated metadata.\n",
            "\n"
          ]
        }
      ],
      "source": [
        "help(gget.ncbi_virus)"
      ]
    },
    {
      "cell_type": "markdown",
      "metadata": {
        "id": "5B5W5ioCy3AR"
      },
      "source": [
        "### Downloading virus genomes from NCBI Virus:"
      ]
    },
    {
      "cell_type": "markdown",
      "metadata": {
        "id": "1Bvvj2mtn49X"
      },
      "source": [
        "This might take a minute depending on the internet connection and how busy the NCBI server is."
      ]
    },
    {
      "cell_type": "code",
      "execution_count": 10,
      "metadata": {
        "id": "vwDIiw3-yEtP",
        "outputId": "d89c7a05-4aec-4062-917c-88e05a904ec6",
        "colab": {
          "base_uri": "https://localhost:8080/"
        }
      },
      "outputs": [
        {
          "output_type": "stream",
          "name": "stderr",
          "text": [
            "New version of client (16.31.0) available at https://ftp.ncbi.nlm.nih.gov/pub/datasets/command-line/LATEST/linux-amd64/datasets.\n",
            "INFO:gget.utils:2626 sequences passed the provided filters.\n"
          ]
        },
        {
          "output_type": "stream",
          "name": "stdout",
          "text": [
            "CPU times: user 1.35 s, sys: 240 ms, total: 1.59 s\n",
            "Wall time: 5.52 s\n"
          ]
        }
      ],
      "source": [
        "%%time\n",
        "gget.ncbi_virus(\n",
        "    virus = virus,\n",
        "    accession = accession,\n",
        "    host = host,\n",
        "    min_seq_length = min_seq_length,\n",
        "    max_seq_length = max_seq_length,\n",
        "    min_gene_count = min_gene_count,\n",
        "    max_gene_count = max_gene_count,\n",
        "    nuc_completeness = nuc_completeness,\n",
        "    has_proteins = has_proteins,\n",
        "    proteins_complete = proteins_complete,\n",
        "    host_taxid = host_taxid,\n",
        "    lab_passaged = lab_passaged,\n",
        "    geographic_region = geographic_region,\n",
        "    geographic_location = geographic_location,\n",
        "    submitter_country = submitter_country,\n",
        "    min_collection_date = min_collection_date,\n",
        "    max_collection_date = max_collection_date,\n",
        "    annotated = annotated,\n",
        "    source_database = source_database,\n",
        "    min_release_date = min_release_date,\n",
        "    max_release_date = max_release_date,\n",
        "    min_mature_peptide_count = min_mature_peptide_count,\n",
        "    max_mature_peptide_count = max_mature_peptide_count,\n",
        "    min_protein_count = min_protein_count,\n",
        "    max_protein_count = max_protein_count,\n",
        "    max_ambiguous_chars = max_ambiguous_chars\n",
        ")"
      ]
    },
    {
      "cell_type": "markdown",
      "metadata": {
        "id": "38O99mAsp3mP"
      },
      "source": [
        "### Merging sequencing and metadata files if additional file(s) were provided"
      ]
    },
    {
      "cell_type": "code",
      "execution_count": 11,
      "metadata": {
        "id": "cMlveCp8ompU"
      },
      "outputs": [],
      "source": [
        "ncbi_fasta_file = f\"{'_'.join(virus.split(' '))}_sequences.fasta\"\n",
        "ncbi_metadata = f\"{'_'.join(virus.split(' '))}_metadata.csv\""
      ]
    },
    {
      "cell_type": "markdown",
      "metadata": {
        "id": "EDLtDZ2wmGQv"
      },
      "source": [
        "If an additional fasta file with sequences was provided, adding these to the sequences and metadata to analyze:"
      ]
    },
    {
      "cell_type": "code",
      "execution_count": 13,
      "metadata": {
        "id": "Z78AgbMOmFVb"
      },
      "outputs": [],
      "source": [
        "if fasta_file:\n",
        "  !pip install biopython\n",
        "  import pandas as pd\n",
        "  from Bio import SeqIO\n",
        "\n",
        "  # Combine sequence files\n",
        "  combined_fasta_file = f\"{'_'.join(virus.split(' '))}_sequences_combined.fasta\"\n",
        "  !cat $ncbi_fasta_file $fasta_file > $combined_fasta_file\n",
        "  input_fasta_file = combined_fasta_file\n",
        "\n",
        "  # Combine metadata\n",
        "  combined_metadata_file = f\"{'_'.join(virus.split(' '))}_metadata_combined.csv\"\n",
        "  ncbi_metadata_df = pd.read_csv(ncbi_metadata)\n",
        "  if metadata_csv:\n",
        "    # Combine provided metadata and NCBI metadata csv files\n",
        "    user_metada_df = pd.read_csv(metadata_csv)\n",
        "    comb_meta_df = pd.concat([ncbi_metadata_df, user_metada_df])\n",
        "    comb_meta_df.to_csv(combined_metadata_file, index=False)\n",
        "    metadata_file = combined_metadata_file\n",
        "\n",
        "  else:\n",
        "    # Extract sequence accessions from the provided FASTA file\n",
        "    headers = [record.id.split(\" \")[0] for record in SeqIO.parse(fasta_file, \"fasta\")]\n",
        "\n",
        "    # Create a metadata dataframe with the accessions from the FASTA file and the provided metadata\n",
        "    user_metada_df = pd.DataFrame(headers, columns=[\"Accession\"])\n",
        "    for key, value in metadata.items():\n",
        "      user_metada_df[key] = value\n",
        "\n",
        "    # Combine with NCBI metadata\n",
        "    comb_meta_df = pd.concat([ncbi_metadata_df, user_metada_df])\n",
        "    comb_meta_df.to_csv(combined_metadata_file, index=False)\n",
        "    metadata_file = combined_metadata_file\n",
        "\n",
        "else:\n",
        "  input_fasta_file = ncbi_fasta_file\n",
        "  metadata_file = ncbi_metadata"
      ]
    },
    {
      "cell_type": "markdown",
      "metadata": {
        "id": "UcxtXwMg_b4a"
      },
      "source": [
        "### Aligning the sequences to each other so they are all in the same frame:"
      ]
    },
    {
      "cell_type": "markdown",
      "metadata": {
        "id": "l8VghGEXmHYa"
      },
      "source": [
        "Aligning all sequences in the faste file to each other so they are all in the same frame.\n",
        "\n",
        "Option 1: Using the MUSCLE algorithm (this works well for a few hundred sequences, but is too slow when dealing with a few thousand sequences)"
      ]
    },
    {
      "cell_type": "code",
      "execution_count": null,
      "metadata": {
        "id": "KVIBO6_16SZj"
      },
      "outputs": [],
      "source": [
        "# %%time\n",
        "# aligned_fasta_file = f\"{'_'.join(virus.split(' '))}_aligned.afa\"\n",
        "# gget.muscle(input_fasta_file, super5=True, out=aligned_fasta_file)"
      ]
    },
    {
      "cell_type": "markdown",
      "source": [
        "Option 2: Using mafft"
      ],
      "metadata": {
        "id": "1zkJksf5j0YC"
      }
    },
    {
      "cell_type": "code",
      "source": [
        "%%time\n",
        "#Installing MAFFT\n",
        "!apt-get install -qq -y mafft\n",
        "\n",
        "# Aligning sequences to each other using mafft\n",
        "aligned_fasta_file = f\"{'_'.join(virus.split(' '))}_aligned.afa\"\n",
        "!mafft \\\n",
        "  --quiet \\\n",
        "  --auto \\\n",
        "  --thread 2 \\\n",
        "  $input_fasta_file > $aligned_fasta_file"
      ],
      "metadata": {
        "id": "kfa1lIuu1Z9n"
      },
      "execution_count": null,
      "outputs": []
    },
    {
      "cell_type": "code",
      "source": [
        "# gget.mafft(input_fasta_file, out=aligned_fasta_file)"
      ],
      "metadata": {
        "id": "RHQpFzcQ1fPK"
      },
      "execution_count": null,
      "outputs": []
    },
    {
      "cell_type": "markdown",
      "metadata": {
        "id": "Z3uqWWpJ_fA_"
      },
      "source": [
        "### Running Delphy:"
      ]
    },
    {
      "cell_type": "code",
      "source": [
        "# Adjust the headers in the aligned fasta file to match header format required by Delphy (accession|YYYY-MM-DD)\n",
        "from Bio import SeqIO\n",
        "import pandas as pd\n",
        "import re\n",
        "\n",
        "def update_fasta_headers(fasta_file, csv_file, output_fasta):\n",
        "    # Read the CSV file into a pandas DataFrame\n",
        "    df = pd.read_csv(csv_file)\n",
        "\n",
        "    # Create a dictionary from the DataFrame to map accession to date\n",
        "    accession_to_date = pd.Series(df['Collection Date'].values, index=df['accession']).to_dict()\n",
        "\n",
        "    # Function to standardize date format\n",
        "    def format_date(date_str):\n",
        "        # If the date is in YYYY-MM format, add \"-01\" for the first day of the month\n",
        "        if re.match(r\"^\\d{4}-\\d{2}$\", date_str):  # Match YYYY-MM format\n",
        "            return f\"{date_str}-01\"\n",
        "        return date_str\n",
        "\n",
        "    # Open the input fasta file and output fasta file\n",
        "    with open(fasta_file) as fasta_input, open(output_fasta, 'w') as fasta_output:\n",
        "        # Iterate through each sequence record in the fasta file\n",
        "        for record in SeqIO.parse(fasta_input, 'fasta'):\n",
        "            accession = record.id\n",
        "\n",
        "            # Check if the accession is in the pandas dictionary and has a non-NaN date\n",
        "            if accession in accession_to_date and pd.notna(accession_to_date[accession]):\n",
        "                date = accession_to_date[accession]\n",
        "                formatted_date = format_date(date)  # Format the date if necessary\n",
        "                # Update the header with accession|YYYY-MM-DD format\n",
        "                record.id = f\"{accession}|{formatted_date}\"\n",
        "                record.description = ''  # Remove the original description to avoid duplication\n",
        "            else:\n",
        "                # Skip the entry if date is NaN or accession not found\n",
        "                print(f\"Skipping accession {accession} due to missing or NaN date.\")\n",
        "                continue\n",
        "\n",
        "            # Write the updated record to the output fasta file\n",
        "            SeqIO.write(record, fasta_output, 'fasta')\n",
        "\n",
        "aligned_fasta_file_clean = f\"{'_'.join(virus.split(' '))}_aligned_headers_adjusted.afa\"\n",
        "update_fasta_headers(aligned_fasta_file, metadata_file, aligned_fasta_file_clean)"
      ],
      "metadata": {
        "id": "3Q5aX8uD1tPm"
      },
      "execution_count": null,
      "outputs": []
    },
    {
      "cell_type": "code",
      "source": [
        "# Download delphy binary\n",
        "!wget https://github.com/broadinstitute/delphy/releases/download/0.9995/delphy-ubuntu-x86_64"
      ],
      "metadata": {
        "id": "UKhk89521Amh"
      },
      "execution_count": null,
      "outputs": []
    },
    {
      "cell_type": "code",
      "source": [
        "# Run delphy\n",
        "!./delphy-ubuntu-x86_64 \\\n",
        "  --v0-threads $threads \\\n",
        "  --v0-in-fasta $aligned_fasta_file_clean"
      ],
      "metadata": {
        "id": "zvcsj4Rk01fA"
      },
      "execution_count": null,
      "outputs": []
    },
    {
      "cell_type": "code",
      "execution_count": null,
      "metadata": {
        "id": "zXSO7xfr_fG_"
      },
      "outputs": [],
      "source": [
        "# gget.delphy(aligned_fasta_file, metadata_file)"
      ]
    },
    {
      "cell_type": "markdown",
      "metadata": {
        "id": "H8W4ESuFoA9W"
      },
      "source": [
        "___\n",
        "# All done! 🎉\n",
        "\n",
        "### To download the files we generated in this notebook to your local computer, click on the folder icon on the left and download files by right clicking a file of interest and selecting 'Download'.\n",
        "\n",
        "### To further visualize your Delphy output, upload the .dphy file to https://delphy.fathom.info/"
      ]
    },
    {
      "cell_type": "code",
      "execution_count": null,
      "metadata": {
        "id": "kkDLta4bos7Z"
      },
      "outputs": [],
      "source": []
    }
  ],
  "metadata": {
    "colab": {
      "provenance": [],
      "include_colab_link": true
    },
    "kernelspec": {
      "display_name": "Python 3",
      "name": "python3"
    },
    "language_info": {
      "name": "python"
    }
  },
  "nbformat": 4,
  "nbformat_minor": 0
}