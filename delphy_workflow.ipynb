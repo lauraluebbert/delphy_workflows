{
  "cells": [
    {
      "cell_type": "markdown",
      "metadata": {
        "id": "view-in-github",
        "colab_type": "text"
      },
      "source": [
        "<a href=\"https://colab.research.google.com/github/lauraluebbert/delphy_workflows/blob/main/delphy_workflow.ipynb\" target=\"_parent\"><img src=\"https://colab.research.google.com/assets/colab-badge.svg\" alt=\"Open In Colab\"/></a>"
      ]
    },
    {
      "cell_type": "markdown",
      "metadata": {
        "id": "ej4vLF8GBtT_"
      },
      "source": [
        "# Delphy workflow\n",
        "___"
      ]
    },
    {
      "cell_type": "markdown",
      "source": [
        "## 1. Select your virus of interest and apply filters to the genomes downloaded from NCBI virus"
      ],
      "metadata": {
        "id": "sWOSpHI-iGVO"
      }
    },
    {
      "cell_type": "code",
      "execution_count": null,
      "metadata": {
        "id": "ejZfJHDLBpVv"
      },
      "outputs": [],
      "source": [
        "virus = 'Norovirus'     # Examples: 'Norovirus' or 'coronaviridae' or 'NC_045512.2' or '142786' (Norovirus taxid)\n",
        "accession = False       # If 'virus' is an NCBI accession instead of a taxon (e.g. 'NC_045512.2'), set this to True\n",
        "\n",
        "# Commonly used filtering options (set any filter to None to turn off the filter):\n",
        "host = 'homo sapiens'             # Example: 'homo sapiens' (alternatively: use the host_taxid filter below)\n",
        "min_seq_length = 6252             # Example: 6252\n",
        "max_seq_length = 7815             # Example: 7815\n",
        "\n",
        "# Additional filtering options:\n",
        "min_gene_count = None             # Example: 1\n",
        "max_gene_count = None             # Example: 40\n",
        "nuc_completeness = None           # Example: 'partial' or 'complete'\n",
        "host_taxid = None                 # Example: 9443 (NCBI Taxonomy ID of all primates)\n",
        "lab_passaged = None               # Example: True or False (indicates whether the virus sequence has been passaged in a laboratory setting)\n",
        "geographic_region = None          # Example: 'Africa' or 'Europe'\n",
        "geographic_location = None        # Example: 'South_Africa' or 'Germany'\n",
        "submitter_country = None          # Example: 'South_Africa' or 'Germany'\n",
        "min_collection_date = None        # Example: '2000-01-01'\n",
        "max_collection_date = None        # Example: '2014-12-04'\n",
        "annotated = None                  # Example: True or False (indicates whether the virus genome sequence should be annotated)\n",
        "source_database = None            # Example: 'GenBank' or 'RefSeq'\n",
        "min_release_date = None           # Example: '2000-01-01'\n",
        "max_release_date = None           # Example: '2014-12-04'\n",
        "min_mature_peptide_count = None   # Example: 2\n",
        "max_mature_peptide_count = None   # Example: 15\n",
        "min_protein_count = None          # Example: 2\n",
        "max_protein_count = None          # Example: 15\n",
        "max_ambiguous_chars = None        # Example: 10"
      ]
    },
    {
      "cell_type": "markdown",
      "source": [
        "## 2. Optional: Upload a fasta file with your own sequences to add to the analysis\n",
        "  1) Click on the folder icon on the left  \n",
        "  2) Upload your file(s) to the Google Colab server by dragging in your file(s) (or use rightclick -> Upload)  \n",
        "  3) Specify the name of your file(s) here:"
      ],
      "metadata": {
        "id": "aE8ot-AyiPdC"
      }
    },
    {
      "cell_type": "code",
      "source": [
        "fasta_file = None        # Example: 'my_fasta_file.fa' or 'my_fasta_file.fasta'\n",
        "\n",
        "# If the metadata is the same for all sequences in your fasta file, enter the metadata here\n",
        "# You have to enter a Collection Date. In addition, you can add as many additional columns as you wish, e.g. \"Geo Location\": \"South Korea\".\n",
        "# Use NCBI column names where applicable, e.g. see https://www.ncbi.nlm.nih.gov/labs/virus/vssi/#/virus\n",
        "metadata = {\n",
        "    \"Collection Date\": \"YYYY-MM-DD\",\n",
        "    \"Extra column 1\": \"Value\",\n",
        "    # ...\n",
        "}\n",
        "\n",
        "# Alternative: Upload a csv file containing the metadata\n",
        "# This file has to include at least a \"Accession\" and a \"Collection Date\" column\n",
        "# Make sure the IDs in the \"Accession\" column match the IDs of the sequences in the fasta\n",
        "# Use NCBI column names where applicable, e.g. see https://www.ncbi.nlm.nih.gov/labs/virus/vssi/#/virus\n",
        "metadata_csv = None       # Example: 'my_metadata.csv'"
      ],
      "metadata": {
        "id": "LKgxMFBgiP64"
      },
      "execution_count": null,
      "outputs": []
    },
    {
      "cell_type": "markdown",
      "source": [
        "## 3. Click on 'Runtime' -> 'Run all' and lean back\n",
        "___"
      ],
      "metadata": {
        "id": "UTL55NF2jAj-"
      }
    },
    {
      "cell_type": "markdown",
      "metadata": {
        "id": "GAljcjWNxssy"
      },
      "source": [
        "### Installing gget:"
      ]
    },
    {
      "cell_type": "code",
      "execution_count": null,
      "metadata": {
        "id": "DagUmlWZvTfz"
      },
      "outputs": [],
      "source": [
        "# After the release, this will just be: pip install gget\n",
        "!pip install -q mysql-connector-python==8.0.29 biopython\n",
        "!pip install -q --log log git+https://github.com/pachterlab/gget.git@delphy_dev\n",
        "\n",
        "import gget"
      ]
    },
    {
      "cell_type": "markdown",
      "metadata": {
        "id": "GLnuvH8Xx-jr"
      },
      "source": [
        "Full descriptions for the filtering options:"
      ]
    },
    {
      "cell_type": "code",
      "execution_count": null,
      "metadata": {
        "id": "ZihmEChGx9j6"
      },
      "outputs": [],
      "source": [
        "help(gget.ncbi_virus)"
      ]
    },
    {
      "cell_type": "markdown",
      "metadata": {
        "id": "5B5W5ioCy3AR"
      },
      "source": [
        "### Downloading virus genomes from NCBI Virus:"
      ]
    },
    {
      "cell_type": "markdown",
      "metadata": {
        "id": "1Bvvj2mtn49X"
      },
      "source": [
        "This might take a minute depending on the internet connection and how busy the NCBI server is."
      ]
    },
    {
      "cell_type": "code",
      "execution_count": null,
      "metadata": {
        "id": "vwDIiw3-yEtP"
      },
      "outputs": [],
      "source": [
        "%%time\n",
        "gget.ncbi_virus(\n",
        "    virus = virus,\n",
        "    accession = accession,\n",
        "    host = host,\n",
        "    min_seq_length = min_seq_length,\n",
        "    max_seq_length = max_seq_length,\n",
        "    min_gene_count = min_gene_count,\n",
        "    max_gene_count = max_gene_count,\n",
        "    nuc_completeness = nuc_completeness,\n",
        "    host_taxid = host_taxid,\n",
        "    lab_passaged = lab_passaged,\n",
        "    geographic_region = geographic_region,\n",
        "    geographic_location = geographic_location,\n",
        "    submitter_country = submitter_country,\n",
        "    min_collection_date = min_collection_date,\n",
        "    max_collection_date = max_collection_date,\n",
        "    annotated = annotated,\n",
        "    source_database = source_database,\n",
        "    min_release_date = min_release_date,\n",
        "    max_release_date = max_release_date,\n",
        "    min_mature_peptide_count = min_mature_peptide_count,\n",
        "    max_mature_peptide_count = max_mature_peptide_count,\n",
        "    min_protein_count = min_protein_count,\n",
        "    max_protein_count = max_protein_count,\n",
        "    max_ambiguous_chars = max_ambiguous_chars\n",
        ")"
      ]
    },
    {
      "cell_type": "markdown",
      "metadata": {
        "id": "38O99mAsp3mP"
      },
      "source": [
        "### Merging sequencing and metadata files if additional file(s) were provided"
      ]
    },
    {
      "cell_type": "code",
      "execution_count": null,
      "metadata": {
        "id": "cMlveCp8ompU"
      },
      "outputs": [],
      "source": [
        "# The fasta file downloaded from NCBI Virus is automatically named after today's date and the virus\n",
        "from datetime import datetime\n",
        "date = datetime.now().strftime(\"%Y-%m-%d\") # Get today's date\n",
        "\n",
        "ncbi_fasta_file = f\"{virus}_{date}_sequences.fasta\"\n",
        "ncbi_metadata = f\"{virus}_{date}_metadata.csv\""
      ]
    },
    {
      "cell_type": "markdown",
      "metadata": {
        "id": "EDLtDZ2wmGQv"
      },
      "source": [
        "If an additional fasta file with sequences was provided, adding these to the sequences and metadata to analyze:"
      ]
    },
    {
      "cell_type": "code",
      "execution_count": null,
      "metadata": {
        "id": "Z78AgbMOmFVb"
      },
      "outputs": [],
      "source": [
        "if fasta_file:\n",
        "  !pip install biopython\n",
        "  import pandas as pd\n",
        "  from Bio import SeqIO\n",
        "\n",
        "  # Combine sequence files\n",
        "  combined_fasta_file = f\"{virus}_{date}_sequences_combined.fasta\"\n",
        "  !cat $ncbi_fasta_file $fasta_file > $combined_fasta_file\n",
        "  input_fasta_file = combined_fasta_file\n",
        "\n",
        "  # Combine metadata\n",
        "  combined_metadata_file = f\"{virus}_{date}_metadata_combined.csv\"\n",
        "  ncbi_metadata_df = pd.read_csv(ncbi_metadata)\n",
        "  if metadata_csv:\n",
        "    # Combine provided metadata and NCBI metadata csv files\n",
        "    user_metada_df = pd.read_csv(metadata_csv)\n",
        "    comb_meta_df = pd.concat([ncbi_metadata_df, user_metada_df])\n",
        "    comb_meta_df.to_csv(combined_metadata_file, index=False)\n",
        "    metadata_file = combined_metadata_file\n",
        "\n",
        "  else:\n",
        "    # Extract sequence accessions from the provided FASTA file\n",
        "    headers = [record.id.split(\" \")[0] for record in SeqIO.parse(fasta_file, \"fasta\")]\n",
        "\n",
        "    # Create a metadata dataframe with the accessions from the FASTA file and the provided metadata\n",
        "    user_metada_df = pd.DataFrame(headers, columns=[\"Accession\"])\n",
        "    for key, value in metadata.items():\n",
        "      user_metada_df[key] = value\n",
        "\n",
        "    # Combine with NCBI metadata\n",
        "    comb_meta_df = pd.concat([ncbi_metadata_df, user_metada_df])\n",
        "    comb_meta_df.to_csv(combined_metadata_file, index=False)\n",
        "    metadata_file = combined_metadata_file\n",
        "\n",
        "else:\n",
        "  input_fasta_file = ncbi_fasta_file\n",
        "  metadata_file = ncbi_metadata"
      ]
    },
    {
      "cell_type": "markdown",
      "metadata": {
        "id": "UcxtXwMg_b4a"
      },
      "source": [
        "### Aligning the sequences to each other so they are all in the same frame:"
      ]
    },
    {
      "cell_type": "markdown",
      "metadata": {
        "id": "l8VghGEXmHYa"
      },
      "source": [
        "Aligning all sequences in the faste file to each other so they are all in the same frame.\n",
        "\n",
        "Option 1: Using the MUSCLE algorithm (this works well for a few hundred sequences, but is too slow when dealing with a few thousand sequences)"
      ]
    },
    {
      "cell_type": "code",
      "execution_count": null,
      "metadata": {
        "id": "KVIBO6_16SZj"
      },
      "outputs": [],
      "source": [
        "# %%time\n",
        "# aligned_fasta_file = f\"{virus}_{date}_aligned.afa\"\n",
        "# gget.muscle(input_fasta_file, super5=True, out=aligned_fasta_file)"
      ]
    },
    {
      "cell_type": "markdown",
      "source": [
        "Option 2: Using mafft"
      ],
      "metadata": {
        "id": "1zkJksf5j0YC"
      }
    },
    {
      "cell_type": "code",
      "source": [
        "%%time\n",
        "#Installing MAFFT\n",
        "!apt-get install -qq -y mafft\n",
        "\n",
        "# Aligning sequences to each other using mafft\n",
        "aligned_fasta_file = f\"{virus}_{date}_aligned.afa\"\n",
        "!mafft \\\n",
        "  --quiet \\\n",
        "  --auto \\\n",
        "  --thread 2 \\\n",
        "  $input_fasta_file > $aligned_fasta_file"
      ],
      "metadata": {
        "id": "kfa1lIuu1Z9n",
        "outputId": "64592aec-37b8-4739-f5cd-901bd5c4b6f6",
        "colab": {
          "base_uri": "https://localhost:8080/"
        }
      },
      "execution_count": null,
      "outputs": [
        {
          "metadata": {
            "tags": null
          },
          "name": "stdout",
          "output_type": "stream",
          "text": [
            "Extracting templates from packages: 100%\n",
            "Selecting previously unselected package fonts-lato.\n",
            "(Reading database ... 123597 files and directories currently installed.)\n",
            "Preparing to unpack .../00-fonts-lato_2.0-2.1_all.deb ...\n",
            "Unpacking fonts-lato (2.0-2.1) ...\n",
            "Selecting previously unselected package netbase.\n",
            "Preparing to unpack .../01-netbase_6.3_all.deb ...\n",
            "Unpacking netbase (6.3) ...\n",
            "Selecting previously unselected package libclone-perl.\n",
            "Preparing to unpack .../02-libclone-perl_0.45-1build3_amd64.deb ...\n",
            "Unpacking libclone-perl (0.45-1build3) ...\n",
            "Selecting previously unselected package libdata-dump-perl.\n",
            "Preparing to unpack .../03-libdata-dump-perl_1.25-1_all.deb ...\n",
            "Unpacking libdata-dump-perl (1.25-1) ...\n",
            "Selecting previously unselected package libencode-locale-perl.\n",
            "Preparing to unpack .../04-libencode-locale-perl_1.05-1.1_all.deb ...\n",
            "Unpacking libencode-locale-perl (1.05-1.1) ...\n",
            "Selecting previously unselected package libhttp-date-perl.\n",
            "Preparing to unpack .../05-libhttp-date-perl_6.05-1_all.deb ...\n",
            "Unpacking libhttp-date-perl (6.05-1) ...\n",
            "Selecting previously unselected package libfile-listing-perl.\n",
            "Preparing to unpack .../06-libfile-listing-perl_6.14-1_all.deb ...\n",
            "Unpacking libfile-listing-perl (6.14-1) ...\n",
            "Selecting previously unselected package libfont-afm-perl.\n",
            "Preparing to unpack .../07-libfont-afm-perl_1.20-3_all.deb ...\n",
            "Unpacking libfont-afm-perl (1.20-3) ...\n",
            "Selecting previously unselected package libhtml-tagset-perl.\n",
            "Preparing to unpack .../08-libhtml-tagset-perl_3.20-4_all.deb ...\n",
            "Unpacking libhtml-tagset-perl (3.20-4) ...\n",
            "Selecting previously unselected package liburi-perl.\n",
            "Preparing to unpack .../09-liburi-perl_5.10-1_all.deb ...\n",
            "Unpacking liburi-perl (5.10-1) ...\n",
            "Selecting previously unselected package libhtml-parser-perl:amd64.\n",
            "Preparing to unpack .../10-libhtml-parser-perl_3.76-1build2_amd64.deb ...\n",
            "Unpacking libhtml-parser-perl:amd64 (3.76-1build2) ...\n",
            "Selecting previously unselected package libio-html-perl.\n",
            "Preparing to unpack .../11-libio-html-perl_1.004-2_all.deb ...\n",
            "Unpacking libio-html-perl (1.004-2) ...\n",
            "Selecting previously unselected package liblwp-mediatypes-perl.\n",
            "Preparing to unpack .../12-liblwp-mediatypes-perl_6.04-1_all.deb ...\n",
            "Unpacking liblwp-mediatypes-perl (6.04-1) ...\n",
            "Selecting previously unselected package libhttp-message-perl.\n",
            "Preparing to unpack .../13-libhttp-message-perl_6.36-1_all.deb ...\n",
            "Unpacking libhttp-message-perl (6.36-1) ...\n",
            "Selecting previously unselected package libhtml-form-perl.\n",
            "Preparing to unpack .../14-libhtml-form-perl_6.07-1_all.deb ...\n",
            "Unpacking libhtml-form-perl (6.07-1) ...\n",
            "Selecting previously unselected package libhtml-tree-perl.\n",
            "Preparing to unpack .../15-libhtml-tree-perl_5.07-2_all.deb ...\n",
            "Unpacking libhtml-tree-perl (5.07-2) ...\n",
            "Selecting previously unselected package libhtml-format-perl.\n",
            "Preparing to unpack .../16-libhtml-format-perl_2.12-1.1_all.deb ...\n",
            "Unpacking libhtml-format-perl (2.12-1.1) ...\n",
            "Selecting previously unselected package libhttp-cookies-perl.\n",
            "Preparing to unpack .../17-libhttp-cookies-perl_6.10-1_all.deb ...\n",
            "Unpacking libhttp-cookies-perl (6.10-1) ...\n",
            "Selecting previously unselected package libhttp-daemon-perl.\n",
            "Preparing to unpack .../18-libhttp-daemon-perl_6.13-1ubuntu0.1_all.deb ...\n",
            "Unpacking libhttp-daemon-perl (6.13-1ubuntu0.1) ...\n",
            "Selecting previously unselected package libhttp-negotiate-perl.\n",
            "Preparing to unpack .../19-libhttp-negotiate-perl_6.01-1_all.deb ...\n",
            "Unpacking libhttp-negotiate-perl (6.01-1) ...\n",
            "Selecting previously unselected package perl-openssl-defaults:amd64.\n",
            "Preparing to unpack .../20-perl-openssl-defaults_5build2_amd64.deb ...\n",
            "Unpacking perl-openssl-defaults:amd64 (5build2) ...\n",
            "Selecting previously unselected package libnet-ssleay-perl:amd64.\n",
            "Preparing to unpack .../21-libnet-ssleay-perl_1.92-1build2_amd64.deb ...\n",
            "Unpacking libnet-ssleay-perl:amd64 (1.92-1build2) ...\n",
            "Selecting previously unselected package libio-socket-ssl-perl.\n",
            "Preparing to unpack .../22-libio-socket-ssl-perl_2.074-2_all.deb ...\n",
            "Unpacking libio-socket-ssl-perl (2.074-2) ...\n",
            "Selecting previously unselected package libnet-http-perl.\n",
            "Preparing to unpack .../23-libnet-http-perl_6.22-1_all.deb ...\n",
            "Unpacking libnet-http-perl (6.22-1) ...\n",
            "Selecting previously unselected package libtry-tiny-perl.\n",
            "Preparing to unpack .../24-libtry-tiny-perl_0.31-1_all.deb ...\n",
            "Unpacking libtry-tiny-perl (0.31-1) ...\n",
            "Selecting previously unselected package libwww-robotrules-perl.\n",
            "Preparing to unpack .../25-libwww-robotrules-perl_6.02-1_all.deb ...\n",
            "Unpacking libwww-robotrules-perl (6.02-1) ...\n",
            "Selecting previously unselected package libwww-perl.\n",
            "Preparing to unpack .../26-libwww-perl_6.61-1_all.deb ...\n",
            "Unpacking libwww-perl (6.61-1) ...\n",
            "Selecting previously unselected package liblwp-protocol-https-perl.\n",
            "Preparing to unpack .../27-liblwp-protocol-https-perl_6.10-1_all.deb ...\n",
            "Unpacking liblwp-protocol-https-perl (6.10-1) ...\n",
            "Selecting previously unselected package libnet-smtp-ssl-perl.\n",
            "Preparing to unpack .../28-libnet-smtp-ssl-perl_1.04-1_all.deb ...\n",
            "Unpacking libnet-smtp-ssl-perl (1.04-1) ...\n",
            "Selecting previously unselected package libmailtools-perl.\n",
            "Preparing to unpack .../29-libmailtools-perl_2.21-1_all.deb ...\n",
            "Unpacking libmailtools-perl (2.21-1) ...\n",
            "Selecting previously unselected package rubygems-integration.\n",
            "Preparing to unpack .../30-rubygems-integration_1.18_all.deb ...\n",
            "Unpacking rubygems-integration (1.18) ...\n",
            "Selecting previously unselected package ruby3.0.\n",
            "Preparing to unpack .../31-ruby3.0_3.0.2-7ubuntu2.7_amd64.deb ...\n",
            "Unpacking ruby3.0 (3.0.2-7ubuntu2.7) ...\n",
            "Selecting previously unselected package ruby-rubygems.\n",
            "Preparing to unpack .../32-ruby-rubygems_3.3.5-2_all.deb ...\n",
            "Unpacking ruby-rubygems (3.3.5-2) ...\n",
            "Selecting previously unselected package ruby.\n",
            "Preparing to unpack .../33-ruby_1%3a3.0~exp1_amd64.deb ...\n",
            "Unpacking ruby (1:3.0~exp1) ...\n",
            "Selecting previously unselected package rake.\n",
            "Preparing to unpack .../34-rake_13.0.6-2_all.deb ...\n",
            "Unpacking rake (13.0.6-2) ...\n",
            "Selecting previously unselected package ruby-net-telnet.\n",
            "Preparing to unpack .../35-ruby-net-telnet_0.1.1-2_all.deb ...\n",
            "Unpacking ruby-net-telnet (0.1.1-2) ...\n",
            "Selecting previously unselected package ruby-webrick.\n",
            "Preparing to unpack .../36-ruby-webrick_1.7.0-3_all.deb ...\n",
            "Unpacking ruby-webrick (1.7.0-3) ...\n",
            "Selecting previously unselected package ruby-xmlrpc.\n",
            "Preparing to unpack .../37-ruby-xmlrpc_0.3.2-1ubuntu0.1_all.deb ...\n",
            "Unpacking ruby-xmlrpc (0.3.2-1ubuntu0.1) ...\n",
            "Selecting previously unselected package libruby3.0:amd64.\n",
            "Preparing to unpack .../38-libruby3.0_3.0.2-7ubuntu2.7_amd64.deb ...\n",
            "Unpacking libruby3.0:amd64 (3.0.2-7ubuntu2.7) ...\n",
            "Selecting previously unselected package lynx-common.\n",
            "Preparing to unpack .../39-lynx-common_2.9.0dev.10-1_all.deb ...\n",
            "Unpacking lynx-common (2.9.0dev.10-1) ...\n",
            "Selecting previously unselected package mafft.\n",
            "Preparing to unpack .../40-mafft_7.490-1_amd64.deb ...\n",
            "Unpacking mafft (7.490-1) ...\n",
            "Selecting previously unselected package mailcap.\n",
            "Preparing to unpack .../41-mailcap_3.70+nmu1ubuntu1_all.deb ...\n",
            "Unpacking mailcap (3.70+nmu1ubuntu1) ...\n",
            "Selecting previously unselected package mime-support.\n",
            "Preparing to unpack .../42-mime-support_3.66_all.deb ...\n",
            "Unpacking mime-support (3.66) ...\n",
            "Selecting previously unselected package libauthen-sasl-perl.\n",
            "Preparing to unpack .../43-libauthen-sasl-perl_2.1600-1.1_all.deb ...\n",
            "Unpacking libauthen-sasl-perl (2.1600-1.1) ...\n",
            "Selecting previously unselected package lynx.\n",
            "Preparing to unpack .../44-lynx_2.9.0dev.10-1_amd64.deb ...\n",
            "Unpacking lynx (2.9.0dev.10-1) ...\n",
            "Setting up libhttp-date-perl (6.05-1) ...\n",
            "Setting up fonts-lato (2.0-2.1) ...\n",
            "Setting up libfile-listing-perl (6.14-1) ...\n",
            "Setting up libfont-afm-perl (1.20-3) ...\n",
            "Setting up mafft (7.490-1) ...\n",
            "Setting up libclone-perl (0.45-1build3) ...\n",
            "Setting up libhtml-tagset-perl (3.20-4) ...\n",
            "Setting up libauthen-sasl-perl (2.1600-1.1) ...\n",
            "Setting up liblwp-mediatypes-perl (6.04-1) ...\n",
            "Setting up libtry-tiny-perl (0.31-1) ...\n",
            "Setting up perl-openssl-defaults:amd64 (5build2) ...\n",
            "Setting up libencode-locale-perl (1.05-1.1) ...\n",
            "Setting up rubygems-integration (1.18) ...\n",
            "Setting up libdata-dump-perl (1.25-1) ...\n",
            "Setting up ruby-net-telnet (0.1.1-2) ...\n",
            "Setting up libio-html-perl (1.004-2) ...\n",
            "Setting up lynx-common (2.9.0dev.10-1) ...\n",
            "Setting up ruby-webrick (1.7.0-3) ...\n",
            "Setting up netbase (6.3) ...\n",
            "Setting up lynx (2.9.0dev.10-1) ...\n",
            "update-alternatives: using /usr/bin/lynx to provide /usr/bin/www-browser (www-browser) in auto mode\n",
            "Setting up mailcap (3.70+nmu1ubuntu1) ...\n",
            "Setting up ruby-xmlrpc (0.3.2-1ubuntu0.1) ...\n",
            "Setting up liburi-perl (5.10-1) ...\n",
            "Setting up libhttp-message-perl (6.36-1) ...\n",
            "Setting up libnet-ssleay-perl:amd64 (1.92-1build2) ...\n",
            "Setting up libhttp-negotiate-perl (6.01-1) ...\n",
            "Setting up mime-support (3.66) ...\n",
            "Setting up libhttp-cookies-perl (6.10-1) ...\n",
            "Setting up libnet-http-perl (6.22-1) ...\n",
            "Setting up libwww-robotrules-perl (6.02-1) ...\n",
            "Setting up libhttp-daemon-perl (6.13-1ubuntu0.1) ...\n",
            "Setting up libhtml-parser-perl:amd64 (3.76-1build2) ...\n",
            "Setting up libio-socket-ssl-perl (2.074-2) ...\n",
            "Setting up libhtml-form-perl (6.07-1) ...\n",
            "Setting up libhtml-tree-perl (5.07-2) ...\n",
            "Setting up libhtml-format-perl (2.12-1.1) ...\n",
            "Setting up libnet-smtp-ssl-perl (1.04-1) ...\n",
            "Setting up libmailtools-perl (2.21-1) ...\n",
            "Setting up libwww-perl (6.61-1) ...\n",
            "Setting up ruby3.0 (3.0.2-7ubuntu2.7) ...\n",
            "Setting up liblwp-protocol-https-perl (6.10-1) ...\n",
            "Setting up ruby (1:3.0~exp1) ...\n",
            "Setting up rake (13.0.6-2) ...\n",
            "Setting up libruby3.0:amd64 (3.0.2-7ubuntu2.7) ...\n",
            "Setting up ruby-rubygems (3.3.5-2) ...\n",
            "Processing triggers for man-db (2.10.2-1) ...\n",
            "Processing triggers for fontconfig (2.13.1-4.2ubuntu5) ...\n",
            "Processing triggers for libc-bin (2.35-0ubuntu3.4) ...\n",
            "/sbin/ldconfig.real: /usr/local/lib/libtbbmalloc.so.2 is not a symbolic link\n",
            "\n",
            "/sbin/ldconfig.real: /usr/local/lib/libtbbbind_2_5.so.3 is not a symbolic link\n",
            "\n",
            "/sbin/ldconfig.real: /usr/local/lib/libtbb.so.12 is not a symbolic link\n",
            "\n",
            "/sbin/ldconfig.real: /usr/local/lib/libtbbbind.so.3 is not a symbolic link\n",
            "\n",
            "/sbin/ldconfig.real: /usr/local/lib/libtbbmalloc_proxy.so.2 is not a symbolic link\n",
            "\n",
            "/sbin/ldconfig.real: /usr/local/lib/libur_adapter_opencl.so.0 is not a symbolic link\n",
            "\n",
            "/sbin/ldconfig.real: /usr/local/lib/libtbbbind_2_0.so.3 is not a symbolic link\n",
            "\n",
            "/sbin/ldconfig.real: /usr/local/lib/libur_loader.so.0 is not a symbolic link\n",
            "\n",
            "/sbin/ldconfig.real: /usr/local/lib/libur_adapter_level_zero.so.0 is not a symbolic link\n",
            "\n"
          ]
        }
      ]
    },
    {
      "cell_type": "markdown",
      "metadata": {
        "id": "Z3uqWWpJ_fA_"
      },
      "source": [
        "### Running Delphy:"
      ]
    },
    {
      "cell_type": "markdown",
      "metadata": {
        "id": "jVo8GCUCTHfa"
      },
      "source": [
        "To-do:  \n",
        "Prep needs to take care of putting fasta headers into the following format:\n",
        "> accession|YYYY-MM-DD\n",
        "\n"
      ]
    },
    {
      "cell_type": "code",
      "execution_count": null,
      "metadata": {
        "id": "zXSO7xfr_fG_"
      },
      "outputs": [],
      "source": [
        "# gget.delphy(aligned_fasta_file, metadata_file)"
      ]
    },
    {
      "cell_type": "markdown",
      "metadata": {
        "id": "H8W4ESuFoA9W"
      },
      "source": [
        "___\n",
        "# All done! 🎉\n",
        "\n",
        "### To download the files we generated in this notebook to your local computer, click on the folder icon on the left and download files by right clicking a file of interest and selecting 'Download'.\n",
        "\n",
        "### To further visualize your Delphy output, upload the .dhpy file to https://delphy.fathom.info/"
      ]
    },
    {
      "cell_type": "code",
      "execution_count": null,
      "metadata": {
        "id": "kkDLta4bos7Z"
      },
      "outputs": [],
      "source": []
    }
  ],
  "metadata": {
    "colab": {
      "provenance": [],
      "include_colab_link": true
    },
    "kernelspec": {
      "display_name": "Python 3",
      "name": "python3"
    },
    "language_info": {
      "name": "python"
    }
  },
  "nbformat": 4,
  "nbformat_minor": 0
}