{
  "cells": [
    {
      "cell_type": "markdown",
      "metadata": {
        "id": "view-in-github",
        "colab_type": "text"
      },
      "source": [
        "<a href=\"https://colab.research.google.com/github/lauraluebbert/delphy_workflows/blob/main/delphy_workflow.ipynb\" target=\"_parent\"><img src=\"https://colab.research.google.com/assets/colab-badge.svg\" alt=\"Open In Colab\"/></a>"
      ]
    },
    {
      "cell_type": "markdown",
      "metadata": {
        "id": "ej4vLF8GBtT_"
      },
      "source": [
        "# Delphy workflow\n",
        "___"
      ]
    },
    {
      "cell_type": "markdown",
      "source": [
        "## 1. Select your virus of interest and apply filters to the genomes downloaded from NCBI virus"
      ],
      "metadata": {
        "id": "sWOSpHI-iGVO"
      }
    },
    {
      "cell_type": "code",
      "source": [
        "virus = 'Norovirus'                # Examples: 'Mammarenavirus lassaense' or 'coronaviridae' or 'NC_045512.2' or '142786' (Norovirus taxid)\n",
        "accession = False                  # If 'virus' is an NCBI accession instead of a taxon (e.g. 'NC_045512.2'), set this to True\n",
        "\n",
        "# Commonly used filtering options (set any filter to None to turn off the filter):\n",
        "host = 'homo sapiens'             # Example: 'homo sapiens' (alternatively: use the host_taxid filter below)\n",
        "min_seq_length = 6252             # Example: 6252\n",
        "max_seq_length = 7815             # Example: 7815\n",
        "\n",
        "has_proteins = None               # Example: 'GPC' or 'L' or ['GPC', 'L'] (also accepts genes or segments)\n",
        "proteins_complete = False         # True or False (indicates whether the proteins/genes/segments in has_proteins should be marked 'complete')\n",
        "\n",
        "geographic_location = None        # Example: 'South_Africa' or 'Germany'\n",
        "min_collection_date = None        # Example: '2000-01-01'\n",
        "max_collection_date = None        # Example: '2014-12-04'\n",
        "max_ambiguous_chars = None        # Example: 10\n",
        "\n",
        "# Additional filtering options:\n",
        "min_gene_count = None             # Example: 1\n",
        "max_gene_count = None             # Example: 40\n",
        "nuc_completeness = None           # 'partial' or 'complete'\n",
        "host_taxid = None                 # Example: 9443 (NCBI Taxonomy ID of all primates)\n",
        "lab_passaged = None               # True or False (indicates whether the virus sequence has been passaged in a laboratory setting)\n",
        "geographic_region = None          # Example: 'Africa' or 'Europe'\n",
        "submitter_country = None          # Example: 'South_Africa' or 'Germany'\n",
        "annotated = None                  # True or False (indicates whether the virus genome sequence should be annotated)\n",
        "source_database = None            # Example: 'GenBank' or 'RefSeq'\n",
        "min_release_date = None           # Example: '2000-01-01'\n",
        "max_release_date = None           # Example: '2014-12-04'\n",
        "min_mature_peptide_count = None   # Example: 2\n",
        "max_mature_peptide_count = None   # Example: 15\n",
        "min_protein_count = None          # Example: 2\n",
        "max_protein_count = None          # Example: 15"
      ],
      "metadata": {
        "id": "HLEVMl9WBgzh"
      },
      "execution_count": null,
      "outputs": []
    },
    {
      "cell_type": "markdown",
      "source": [
        "## 2. Optional: Upload a fasta file with your own sequences to add to the analysis\n",
        "  1) Click on the folder icon on the left  \n",
        "  2) Upload your file(s) to the Google Colab server by dragging in your file(s) (or use rightclick -> Upload)  \n",
        "  3) Specify the name of your file(s) here:"
      ],
      "metadata": {
        "id": "aE8ot-AyiPdC"
      }
    },
    {
      "cell_type": "code",
      "source": [
        "fasta_file = None        # Example: 'my_fasta_file.fa' or 'my_fasta_file.fasta'\n",
        "\n",
        "# If the metadata is the same for all sequences in your fasta file, enter the metadata here\n",
        "# You have to enter a Collection Date. In addition, you can add as many additional columns as you wish, e.g. \"Geo Location\": \"South Korea\".\n",
        "# Use NCBI column names where applicable, e.g. see https://www.ncbi.nlm.nih.gov/labs/virus/vssi/#/virus\n",
        "metadata = {\n",
        "    \"Collection Date\": \"YYYY-MM-DD\",\n",
        "    \"Extra column 1\": \"Value\",\n",
        "    # ...\n",
        "}\n",
        "\n",
        "# Alternative: Upload a csv file containing the metadata\n",
        "# This file has to include at least a \"Accession\" and a \"Collection Date\" column\n",
        "# Make sure the IDs in the \"Accession\" column match the IDs of the sequences in the fasta\n",
        "# Use NCBI column names where applicable, e.g. see https://www.ncbi.nlm.nih.gov/labs/virus/vssi/#/virus\n",
        "metadata_csv = None       # Example: 'my_metadata.csv'"
      ],
      "metadata": {
        "id": "LKgxMFBgiP64"
      },
      "execution_count": null,
      "outputs": []
    },
    {
      "cell_type": "markdown",
      "source": [
        "## 3. Click on 'Runtime' -> 'Run all' and lean back\n",
        "___"
      ],
      "metadata": {
        "id": "UTL55NF2jAj-"
      }
    },
    {
      "cell_type": "markdown",
      "metadata": {
        "id": "GAljcjWNxssy"
      },
      "source": [
        "### Installing gget:"
      ]
    },
    {
      "cell_type": "code",
      "execution_count": null,
      "metadata": {
        "id": "DagUmlWZvTfz"
      },
      "outputs": [],
      "source": [
        "# After the release, this will just be: pip install gget\n",
        "!pip install -q mysql-connector-python==8.0.29 biopython\n",
        "!pip install -q --log log git+https://github.com/pachterlab/gget.git@delphy_dev\n",
        "\n",
        "import gget"
      ]
    },
    {
      "cell_type": "markdown",
      "metadata": {
        "id": "GLnuvH8Xx-jr"
      },
      "source": [
        "Full descriptions for the filtering options:"
      ]
    },
    {
      "cell_type": "code",
      "execution_count": null,
      "metadata": {
        "id": "ZihmEChGx9j6"
      },
      "outputs": [],
      "source": [
        "help(gget.ncbi_virus)"
      ]
    },
    {
      "cell_type": "markdown",
      "metadata": {
        "id": "5B5W5ioCy3AR"
      },
      "source": [
        "### Downloading virus genomes from NCBI Virus:"
      ]
    },
    {
      "cell_type": "markdown",
      "metadata": {
        "id": "1Bvvj2mtn49X"
      },
      "source": [
        "This might take a minute depending on the internet connection and how busy the NCBI server is."
      ]
    },
    {
      "cell_type": "code",
      "execution_count": null,
      "metadata": {
        "id": "vwDIiw3-yEtP"
      },
      "outputs": [],
      "source": [
        "%%time\n",
        "gget.ncbi_virus(\n",
        "    virus = virus,\n",
        "    accession = accession,\n",
        "    host = host,\n",
        "    min_seq_length = min_seq_length,\n",
        "    max_seq_length = max_seq_length,\n",
        "    min_gene_count = min_gene_count,\n",
        "    max_gene_count = max_gene_count,\n",
        "    nuc_completeness = nuc_completeness,\n",
        "    has_proteins = has_proteins,\n",
        "    proteins_complete = proteins_complete,\n",
        "    host_taxid = host_taxid,\n",
        "    lab_passaged = lab_passaged,\n",
        "    geographic_region = geographic_region,\n",
        "    geographic_location = geographic_location,\n",
        "    submitter_country = submitter_country,\n",
        "    min_collection_date = min_collection_date,\n",
        "    max_collection_date = max_collection_date,\n",
        "    annotated = annotated,\n",
        "    source_database = source_database,\n",
        "    min_release_date = min_release_date,\n",
        "    max_release_date = max_release_date,\n",
        "    min_mature_peptide_count = min_mature_peptide_count,\n",
        "    max_mature_peptide_count = max_mature_peptide_count,\n",
        "    min_protein_count = min_protein_count,\n",
        "    max_protein_count = max_protein_count,\n",
        "    max_ambiguous_chars = max_ambiguous_chars\n",
        ")"
      ]
    },
    {
      "cell_type": "markdown",
      "metadata": {
        "id": "38O99mAsp3mP"
      },
      "source": [
        "### Merging sequencing and metadata files if additional file(s) were provided"
      ]
    },
    {
      "cell_type": "code",
      "execution_count": null,
      "metadata": {
        "id": "cMlveCp8ompU"
      },
      "outputs": [],
      "source": [
        "ncbi_fasta_file = f\"{'_'.join(virus.split(' '))}_sequences.fasta\"\n",
        "ncbi_metadata = f\"{'_'.join(virus.split(' '))}_metadata.csv\""
      ]
    },
    {
      "cell_type": "markdown",
      "metadata": {
        "id": "EDLtDZ2wmGQv"
      },
      "source": [
        "If an additional fasta file with sequences was provided, adding these to the sequences and metadata to analyze:"
      ]
    },
    {
      "cell_type": "code",
      "execution_count": null,
      "metadata": {
        "id": "Z78AgbMOmFVb"
      },
      "outputs": [],
      "source": [
        "if fasta_file:\n",
        "  !pip install biopython\n",
        "  import pandas as pd\n",
        "  from Bio import SeqIO\n",
        "\n",
        "  # Combine sequence files\n",
        "  combined_fasta_file = f\"{'_'.join(virus.split(' '))}_sequences_combined.fasta\"\n",
        "  !cat $ncbi_fasta_file $fasta_file > $combined_fasta_file\n",
        "  input_fasta_file = combined_fasta_file\n",
        "\n",
        "  # Combine metadata\n",
        "  combined_metadata_file = f\"{'_'.join(virus.split(' '))}_metadata_combined.csv\"\n",
        "  ncbi_metadata_df = pd.read_csv(ncbi_metadata)\n",
        "  if metadata_csv:\n",
        "    # Combine provided metadata and NCBI metadata csv files\n",
        "    user_metada_df = pd.read_csv(metadata_csv)\n",
        "    comb_meta_df = pd.concat([ncbi_metadata_df, user_metada_df])\n",
        "    comb_meta_df.to_csv(combined_metadata_file, index=False)\n",
        "    metadata_file = combined_metadata_file\n",
        "\n",
        "  else:\n",
        "    # Extract sequence accessions from the provided FASTA file\n",
        "    headers = [record.id.split(\" \")[0] for record in SeqIO.parse(fasta_file, \"fasta\")]\n",
        "\n",
        "    # Create a metadata dataframe with the accessions from the FASTA file and the provided metadata\n",
        "    user_metada_df = pd.DataFrame(headers, columns=[\"Accession\"])\n",
        "    for key, value in metadata.items():\n",
        "      user_metada_df[key] = value\n",
        "\n",
        "    # Combine with NCBI metadata\n",
        "    comb_meta_df = pd.concat([ncbi_metadata_df, user_metada_df])\n",
        "    comb_meta_df.to_csv(combined_metadata_file, index=False)\n",
        "    metadata_file = combined_metadata_file\n",
        "\n",
        "else:\n",
        "  input_fasta_file = ncbi_fasta_file\n",
        "  metadata_file = ncbi_metadata"
      ]
    },
    {
      "cell_type": "markdown",
      "metadata": {
        "id": "UcxtXwMg_b4a"
      },
      "source": [
        "### Aligning the sequences to each other so they are all in the same frame:"
      ]
    },
    {
      "cell_type": "markdown",
      "metadata": {
        "id": "l8VghGEXmHYa"
      },
      "source": [
        "Aligning all sequences in the faste file to each other so they are all in the same frame.\n",
        "\n",
        "Option 1: Using the MUSCLE algorithm (this works well for a few hundred sequences, but is too slow when dealing with a few thousand sequences)"
      ]
    },
    {
      "cell_type": "code",
      "execution_count": null,
      "metadata": {
        "id": "KVIBO6_16SZj"
      },
      "outputs": [],
      "source": [
        "# %%time\n",
        "# aligned_fasta_file = f\"{'_'.join(virus.split(' '))}_aligned.afa\"\n",
        "# gget.muscle(input_fasta_file, super5=True, out=aligned_fasta_file)"
      ]
    },
    {
      "cell_type": "markdown",
      "source": [
        "Option 2: Using mafft"
      ],
      "metadata": {
        "id": "1zkJksf5j0YC"
      }
    },
    {
      "cell_type": "code",
      "source": [
        "%%time\n",
        "#Installing MAFFT\n",
        "!apt-get install -qq -y mafft\n",
        "\n",
        "# Aligning sequences to each other using mafft\n",
        "aligned_fasta_file = f\"{'_'.join(virus.split(' '))}_aligned.afa\"\n",
        "!mafft \\\n",
        "  --quiet \\\n",
        "  --auto \\\n",
        "  --thread 2 \\\n",
        "  $input_fasta_file > $aligned_fasta_file"
      ],
      "metadata": {
        "id": "kfa1lIuu1Z9n"
      },
      "execution_count": null,
      "outputs": []
    },
    {
      "cell_type": "markdown",
      "metadata": {
        "id": "Z3uqWWpJ_fA_"
      },
      "source": [
        "### Running Delphy:"
      ]
    },
    {
      "cell_type": "markdown",
      "metadata": {
        "id": "jVo8GCUCTHfa"
      },
      "source": [
        "To-do:  \n",
        "Prep needs to take care of putting fasta headers into the following format:\n",
        "> accession|YYYY-MM-DD\n",
        "\n"
      ]
    },
    {
      "cell_type": "code",
      "execution_count": null,
      "metadata": {
        "id": "zXSO7xfr_fG_"
      },
      "outputs": [],
      "source": [
        "# gget.delphy(aligned_fasta_file, metadata_file)"
      ]
    },
    {
      "cell_type": "markdown",
      "metadata": {
        "id": "H8W4ESuFoA9W"
      },
      "source": [
        "___\n",
        "# All done! 🎉\n",
        "\n",
        "### To download the files we generated in this notebook to your local computer, click on the folder icon on the left and download files by right clicking a file of interest and selecting 'Download'.\n",
        "\n",
        "### To further visualize your Delphy output, upload the .dphy file to https://delphy.fathom.info/"
      ]
    },
    {
      "cell_type": "code",
      "execution_count": null,
      "metadata": {
        "id": "kkDLta4bos7Z"
      },
      "outputs": [],
      "source": []
    }
  ],
  "metadata": {
    "colab": {
      "provenance": [],
      "include_colab_link": true
    },
    "kernelspec": {
      "display_name": "Python 3",
      "name": "python3"
    },
    "language_info": {
      "name": "python"
    }
  },
  "nbformat": 4,
  "nbformat_minor": 0
}
