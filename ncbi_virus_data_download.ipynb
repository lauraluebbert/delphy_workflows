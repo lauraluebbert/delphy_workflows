{
  "cells": [
    {
      "cell_type": "markdown",
      "metadata": {
        "id": "view-in-github",
        "colab_type": "text"
      },
      "source": [
        "<a href=\"https://colab.research.google.com/github/lauraluebbert/delphy_workflows/blob/main/ncbi_virus_data_download.ipynb\" target=\"_parent\"><img src=\"https://colab.research.google.com/assets/colab-badge.svg\" alt=\"Open In Colab\"/></a>"
      ]
    },
    {
      "cell_type": "markdown",
      "metadata": {
        "id": "ej4vLF8GBtT_"
      },
      "source": [
        "# Download data from [NCBI Virus](https://www.ncbi.nlm.nih.gov/labs/virus/vssi/#/) using [gget](https://pachterlab.github.io/gget/)\n",
        "___"
      ]
    },
    {
      "cell_type": "markdown",
      "source": [
        "## 1. Select your virus of interest and apply filters to the genomes downloaded from NCBI virus"
      ],
      "metadata": {
        "id": "sWOSpHI-iGVO"
      }
    },
    {
      "cell_type": "code",
      "execution_count": 6,
      "metadata": {
        "id": "ejZfJHDLBpVv"
      },
      "outputs": [],
      "source": [
        "virus = \"Norovirus\"     # Examples: 'Norovirus' or 'coronaviridae' or 'NC_045512.2'\n",
        "accession = False       # If 'virus' is an accession instead of a taxon (e.g. 'NC_045512.2'), set this to True\n",
        "\n",
        "# Commonly used filtering options (set any filter to None to turn off the filter):\n",
        "host = 'homo sapiens'             # Example: 'homo sapiens' (alternatively: use the host_taxid filter below)\n",
        "min_seq_length = 6252             # Example: 6252\n",
        "max_seq_length = 7815             # Example: 7815\n",
        "\n",
        "# Additional filtering options:\n",
        "min_gene_count = None             # Example: 1\n",
        "max_gene_count = None             # Example: 40\n",
        "nuc_completeness = None           # Example: 'partial' or 'complete'\n",
        "host_taxid = None                 # Example: 9443 (NCBI Taxonomy ID of all primates)\n",
        "lab_passaged = None               # Example: True or False (indicates whether the virus sequence has been passaged in a laboratory setting)\n",
        "geographic_region = None          # Example: 'Africa' or 'Europe'\n",
        "geographic_location = None        # Example: 'South_Africa' or 'Germany'\n",
        "submitter_country = None          # Example: 'South_Africa' or 'Germany'\n",
        "min_collection_date = None        # Example: '2000-01-01'\n",
        "max_collection_date = None        # Example: '2014-12-04'\n",
        "annotated = None                  # Example: True or False (indicates whether the virus genome sequence should be annotated)\n",
        "virus_taxid = None                # Example: 11974 (NCBI Taxonomy ID of Caliciviridae)\n",
        "source_database = None            # Example: 'GenBank' or 'RefSeq'\n",
        "min_release_date = None           # Example: '2000-01-01'\n",
        "max_release_date = None           # Example: '2014-12-04'\n",
        "min_mature_peptide_count = None   # Example: 2\n",
        "max_mature_peptide_count = None   # Example: 15\n",
        "min_protein_count = None          # Example: 2\n",
        "max_protein_count = None          # Example: 15\n",
        "max_ambiguous_chars = None        # Example: 10"
      ]
    },
    {
      "cell_type": "markdown",
      "source": [
        "## 2. Click on 'Runtime' -> 'Run all' and lean back\n",
        "___"
      ],
      "metadata": {
        "id": "UTL55NF2jAj-"
      }
    },
    {
      "cell_type": "markdown",
      "metadata": {
        "id": "GAljcjWNxssy"
      },
      "source": [
        "### Installing gget:"
      ]
    },
    {
      "cell_type": "code",
      "execution_count": 7,
      "metadata": {
        "colab": {
          "base_uri": "https://localhost:8080/"
        },
        "id": "DagUmlWZvTfz",
        "outputId": "7335da39-212c-4965-f226-45c47dafb0f8"
      },
      "outputs": [
        {
          "output_type": "stream",
          "name": "stdout",
          "text": [
            "  Preparing metadata (setup.py) ... \u001b[?25l\u001b[?25hdone\n"
          ]
        }
      ],
      "source": [
        "# After the release, this will just be: pip install gget\n",
        "!pip install -q mysql-connector-python==8.0.29 biopython\n",
        "!pip install -q --log log git+https://github.com/pachterlab/gget.git@delphy_dev\n",
        "\n",
        "import gget"
      ]
    },
    {
      "cell_type": "markdown",
      "metadata": {
        "id": "GLnuvH8Xx-jr"
      },
      "source": [
        "Full descriptions for the filtering options:"
      ]
    },
    {
      "cell_type": "code",
      "execution_count": 8,
      "metadata": {
        "id": "ZihmEChGx9j6",
        "colab": {
          "base_uri": "https://localhost:8080/"
        },
        "outputId": "ed59e735-657a-4026-cd5d-6474beed1375"
      },
      "outputs": [
        {
          "output_type": "stream",
          "name": "stdout",
          "text": [
            "Help on function ncbi_virus in module gget.gget_ncbi_virus:\n",
            "\n",
            "ncbi_virus(virus, accession=False, outfolder=None, host=None, min_seq_length=None, max_seq_length=None, min_gene_count=None, max_gene_count=None, nuc_completeness=None, host_taxid=None, lab_passaged=None, geographic_region=None, geographic_location=None, submitter_country=None, min_collection_date=None, max_collection_date=None, annotated=None, virus_taxid=None, source_database=None, min_release_date=None, max_release_date=None, min_mature_peptide_count=None, max_mature_peptide_count=None, min_protein_count=None, max_protein_count=None, max_ambiguous_chars=None)\n",
            "    Download a virus genome dataset from the NCBI Virus database (https://www.ncbi.nlm.nih.gov/labs/virus/).\n",
            "    \n",
            "    Args:\n",
            "    - virus                Virus taxon or accession, e.g. 'Norovirus' or 'coronaviridae' or 'NC_045512.2'\n",
            "                           If this input is a virus accession (e.g. 'NC_045512.2'), set accession = True.\n",
            "    - accession            True/False whether 'virus' is an accession. Default: False\n",
            "    - outfolder            Path to folder to save the requested data in, e.g. 'path/to/norovirus_folder'.\n",
            "                           Default: None (saves output into current working directory)\n",
            "    \n",
            "    Filters:\n",
            "    - host                 Host organism, e.g. 'homo sapiens'. Default: None\n",
            "    - min_seq_length       Min length of the returned sequences, e.g. 6252. Default: None\n",
            "    - max_seq_length       Max length of the returned sequences, e.g. 7500. Default: None\n",
            "    - min_gene_count       Min number of genes present in the virus genome, e.g. 1. Default: None\n",
            "    - max_gene_count       Max number of genes present in the virus genome, e.g. 40. Default: None\n",
            "    - nuc_completeness     Completeness status of the nucleotide sequence. Should be 'partial' or 'complete'. Default: None\n",
            "    - host_taxid           NCBI Taxonomy ID of the host organism. Filters the results to only include viruses\n",
            "                           associated with hosts that fall within the specified TaxID. Default: None\n",
            "    - lab_passaged         True/False Indicates whether the virus sequence has been passaged in a laboratory setting.\n",
            "                           Default: None\n",
            "    - geographic_region    The geographic region where the virus was identified or isolated, e.g. 'Africa' or 'Europe'.\n",
            "                           Default: None\n",
            "    - geographic_location  The specific geographic location (e.g., country or area) where the virus was identified or\n",
            "                           isolated, e.g. 'South_Africa'. Default: None\n",
            "    - submitter_country    The country of the submitter of the virus sequence data. Filters results by the specified country,\n",
            "                           e.g. 'South_Africa' or 'Germany'. Default: None\n",
            "    - min_collection_date  The earliest collection date (in 'YYYY-MM-DD' format). Samples collected before this date will be\n",
            "                           excluded. Example: '2000-01-01'.  Default: None\n",
            "    - max_collection_date  The latest collection date (in 'YYYY-MM-DD' format). Samples collected after this date will be\n",
            "                           excluded. Example: '2014-12-04'. Default: None\n",
            "    - annotated            True/False Indicates whether the virus genome sequence is annotated. Default: None\n",
            "    - virus_taxid          NCBI Taxonomy ID of the virus. Filters the results to only include viruses that fall within the\n",
            "                           specified TaxID. Default: None\n",
            "    - source_database      The source database from which the virus sequences originate, e.g. 'GenBank'.\n",
            "                           Default: None\n",
            "    - min_release_date     The earliest release date (in 'YYYY-MM-DD' format) of the virus sequence data. Sequences released\n",
            "                           before this date will be excluded. Default: None\n",
            "    - max_release_date     The latest release date (in 'YYYY-MM-DD' format) of the virus sequence data. Sequences released\n",
            "                           after this date will be excluded. Default: None\n",
            "    - min_mature_peptide_count    Min number of mature peptides present in the virus genome. Default: None\n",
            "    - max_mature_peptide_count    Max number of mature peptides present in the virus genome. Default: None\n",
            "    - min_protein_count    Min number of proteins present in the virus genome. Default: None\n",
            "    - max_protein_count    Max number of proteins present in the virus genome. Default: None\n",
            "    - max_ambiguous_chars  Max number of ambiguous nucleotide characters ('n' or 'N') allowed in the sequences, e.g. 50.\n",
            "                           Default: None\n",
            "    \n",
            "    Returns a fasta file containing the requested sequences and .csv and .jsonl files containing the associated metadata.\n",
            "\n"
          ]
        }
      ],
      "source": [
        "help(gget.ncbi_virus)"
      ]
    },
    {
      "cell_type": "markdown",
      "metadata": {
        "id": "5B5W5ioCy3AR"
      },
      "source": [
        "### Downloading virus genomes from NCBI Virus:"
      ]
    },
    {
      "cell_type": "markdown",
      "metadata": {
        "id": "1Bvvj2mtn49X"
      },
      "source": [
        "This might take a minute depending on the internet connection and how busy the NCBI server is."
      ]
    },
    {
      "cell_type": "code",
      "execution_count": 9,
      "metadata": {
        "id": "vwDIiw3-yEtP",
        "colab": {
          "base_uri": "https://localhost:8080/"
        },
        "outputId": "1c618625-1e31-45d8-9679-7e0e2ced5102"
      },
      "outputs": [
        {
          "output_type": "stream",
          "name": "stderr",
          "text": [
            "INFO:gget.utils:3291 sequences passed the provided filters.\n"
          ]
        },
        {
          "output_type": "stream",
          "name": "stdout",
          "text": [
            "CPU times: user 5.23 s, sys: 1.18 s, total: 6.41 s\n",
            "Wall time: 22 s\n"
          ]
        }
      ],
      "source": [
        "%%time\n",
        "gget.ncbi_virus(\n",
        "    virus = virus,\n",
        "    accession = accession,\n",
        "    host = host,\n",
        "    min_seq_length = min_seq_length,\n",
        "    max_seq_length = max_seq_length,\n",
        "    min_gene_count = min_gene_count,\n",
        "    max_gene_count = max_gene_count,\n",
        "    nuc_completeness = nuc_completeness,\n",
        "    host_taxid = host_taxid,\n",
        "    lab_passaged = lab_passaged,\n",
        "    geographic_region = geographic_region,\n",
        "    geographic_location = geographic_location,\n",
        "    submitter_country = submitter_country,\n",
        "    min_collection_date = min_collection_date,\n",
        "    max_collection_date = max_collection_date,\n",
        "    annotated = annotated,\n",
        "    virus_taxid = virus_taxid,\n",
        "    source_database = source_database,\n",
        "    min_release_date = min_release_date,\n",
        "    max_release_date = max_release_date,\n",
        "    min_mature_peptide_count = min_mature_peptide_count,\n",
        "    max_mature_peptide_count = max_mature_peptide_count,\n",
        "    min_protein_count = min_protein_count,\n",
        "    max_protein_count = max_protein_count,\n",
        "    max_ambiguous_chars = max_ambiguous_chars\n",
        ")"
      ]
    },
    {
      "cell_type": "markdown",
      "metadata": {
        "id": "H8W4ESuFoA9W"
      },
      "source": [
        "___\n",
        "# All done! 🎉\n",
        "\n",
        "### To download the files we generated in this notebook to your local computer, click on the folder icon on the left and download files by right clicking a file of interest and selecting 'Download'."
      ]
    },
    {
      "cell_type": "code",
      "execution_count": 9,
      "metadata": {
        "id": "kkDLta4bos7Z"
      },
      "outputs": [],
      "source": []
    }
  ],
  "metadata": {
    "colab": {
      "provenance": [],
      "include_colab_link": true
    },
    "kernelspec": {
      "display_name": "Python 3",
      "name": "python3"
    },
    "language_info": {
      "name": "python"
    }
  },
  "nbformat": 4,
  "nbformat_minor": 0
}