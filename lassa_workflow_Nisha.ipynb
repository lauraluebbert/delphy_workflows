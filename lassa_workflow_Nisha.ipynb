{
  "cells": [
    {
      "cell_type": "markdown",
      "metadata": {
        "id": "view-in-github",
        "colab_type": "text"
      },
      "source": [
        "<a href=\"https://colab.research.google.com/github/lauraluebbert/delphy_workflows/blob/main/lassa_workflow_Nisha.ipynb\" target=\"_parent\"><img src=\"https://colab.research.google.com/assets/colab-badge.svg\" alt=\"Open In Colab\"/></a>"
      ]
    },
    {
      "cell_type": "markdown",
      "metadata": {
        "id": "ej4vLF8GBtT_"
      },
      "source": [
        "# Download data from [NCBI Virus](https://www.ncbi.nlm.nih.gov/labs/virus/vssi/#/) using [gget](https://pachterlab.github.io/gget/)\n",
        "___"
      ]
    },
    {
      "cell_type": "markdown",
      "source": [
        "## 1. Select your virus of interest and apply filters to the genomes downloaded from NCBI virus"
      ],
      "metadata": {
        "id": "sWOSpHI-iGVO"
      }
    },
    {
      "cell_type": "code",
      "execution_count": 1,
      "metadata": {
        "id": "ejZfJHDLBpVv"
      },
      "outputs": [],
      "source": [
        "virus = 'Mammarenavirus lassaense' # Examples: 'Norovirus' or 'coronaviridae' or 'NC_045512.2' or '142786' (Norovirus taxid)\n",
        "accession = False                  # If 'virus' is an NCBI accession instead of a taxon (e.g. 'NC_045512.2'), set this to True\n",
        "\n",
        "# Commonly used filtering options (set any filter to None to turn off the filter):\n",
        "host = 'homo sapiens'             # Example: 'homo sapiens' (alternatively: use the host_taxid filter below)\n",
        "min_seq_length = None             # Example: 6252\n",
        "max_seq_length = None             # Example: 7815\n",
        "has_proteins = 'S'                # Example: 'GPC' or 'L' or ['GPC', 'L'] (also accepts genes or segments)\n",
        "proteins_complete = False         # True or False (indicates whether the proteins/genes/segments in has_proteins should be marked 'complete')\n",
        "\n",
        "geographic_location = None        # Example: 'South_Africa' or 'Germany'\n",
        "min_collection_date = None        # Example: '2000-01-01'\n",
        "max_collection_date = None        # Example: '2014-12-04'\n",
        "\n",
        "# Additional filtering options:\n",
        "min_gene_count = None             # Example: 1\n",
        "max_gene_count = None             # Example: 40\n",
        "nuc_completeness = None           # 'partial' or 'complete'\n",
        "host_taxid = None                 # Example: 9443 (NCBI Taxonomy ID of all primates)\n",
        "lab_passaged = None               # True or False (indicates whether the virus sequence has been passaged in a laboratory setting)\n",
        "geographic_region = None          # Example: 'Africa' or 'Europe'\n",
        "submitter_country = None          # Example: 'South_Africa' or 'Germany'\n",
        "annotated = None                  # True or False (indicates whether the virus genome sequence should be annotated)\n",
        "source_database = None            # Example: 'GenBank' or 'RefSeq'\n",
        "min_release_date = None           # Example: '2000-01-01'\n",
        "max_release_date = None           # Example: '2014-12-04'\n",
        "min_mature_peptide_count = None   # Example: 2\n",
        "max_mature_peptide_count = None   # Example: 15\n",
        "min_protein_count = None          # Example: 2\n",
        "max_protein_count = None          # Example: 15\n",
        "max_ambiguous_chars = None        # Example: 10"
      ]
    },
    {
      "cell_type": "markdown",
      "source": [
        "## 2. Upload a reference fasta file\n",
        "1. Click on the folder icon on the left\n",
        "2. Upload your file to the Google Colab server by dragging in your file (or use rightclick -> Upload)\n",
        "3. Specify the name of your file here:"
      ],
      "metadata": {
        "id": "B0dAZASIzmFp"
      }
    },
    {
      "cell_type": "code",
      "source": [
        "reference = \"your_reference.fasta\""
      ],
      "metadata": {
        "id": "0hbMmDWKzhOl"
      },
      "execution_count": 2,
      "outputs": []
    },
    {
      "cell_type": "markdown",
      "source": [
        "## 3. Click on 'Runtime' -> 'Run all' and lean back\n",
        "___"
      ],
      "metadata": {
        "id": "UTL55NF2jAj-"
      }
    },
    {
      "cell_type": "markdown",
      "metadata": {
        "id": "GAljcjWNxssy"
      },
      "source": [
        "### Installing gget:"
      ]
    },
    {
      "cell_type": "code",
      "execution_count": null,
      "metadata": {
        "id": "DagUmlWZvTfz",
        "outputId": "1488e4af-7d70-4661-f48b-1fd3dd837c48",
        "colab": {
          "base_uri": "https://localhost:8080/"
        }
      },
      "outputs": [
        {
          "output_type": "stream",
          "name": "stdout",
          "text": [
            "\u001b[2K   \u001b[90m━━━━━━━━━━━━━━━━━━━━━━━━━━━━━━━━━━━━━━━━\u001b[0m \u001b[32m25.2/25.2 MB\u001b[0m \u001b[31m21.0 MB/s\u001b[0m eta \u001b[36m0:00:00\u001b[0m\n",
            "\u001b[2K   \u001b[90m━━━━━━━━━━━━━━━━━━━━━━━━━━━━━━━━━━━━━━━━\u001b[0m \u001b[32m3.2/3.2 MB\u001b[0m \u001b[31m30.7 MB/s\u001b[0m eta \u001b[36m0:00:00\u001b[0m\n",
            "\u001b[?25h  Preparing metadata (setup.py) ... \u001b[?25l\u001b[?25hdone\n"
          ]
        }
      ],
      "source": [
        "# After the release, this will just be: pip install gget\n",
        "!pip install -q mysql-connector-python==8.0.29 biopython\n",
        "!pip install -q --log log git+https://github.com/pachterlab/gget.git@delphy_dev\n",
        "\n",
        "import gget"
      ]
    },
    {
      "cell_type": "markdown",
      "metadata": {
        "id": "GLnuvH8Xx-jr"
      },
      "source": [
        "Full descriptions for the filtering options:"
      ]
    },
    {
      "cell_type": "code",
      "execution_count": null,
      "metadata": {
        "id": "ZihmEChGx9j6"
      },
      "outputs": [],
      "source": [
        "help(gget.ncbi_virus)"
      ]
    },
    {
      "cell_type": "markdown",
      "metadata": {
        "id": "5B5W5ioCy3AR"
      },
      "source": [
        "### Downloading virus genomes from NCBI Virus:"
      ]
    },
    {
      "cell_type": "markdown",
      "metadata": {
        "id": "1Bvvj2mtn49X"
      },
      "source": [
        "This might take a minute depending on the internet connection and how busy the NCBI server is."
      ]
    },
    {
      "cell_type": "code",
      "execution_count": null,
      "metadata": {
        "id": "vwDIiw3-yEtP"
      },
      "outputs": [],
      "source": [
        "%%time\n",
        "gget.ncbi_virus(\n",
        "    virus = virus,\n",
        "    accession = accession,\n",
        "    host = host,\n",
        "    min_seq_length = min_seq_length,\n",
        "    max_seq_length = max_seq_length,\n",
        "    min_gene_count = min_gene_count,\n",
        "    max_gene_count = max_gene_count,\n",
        "    nuc_completeness = nuc_completeness,\n",
        "    has_proteins = has_proteins,\n",
        "    proteins_complete = False,\n",
        "    host_taxid = host_taxid,\n",
        "    lab_passaged = lab_passaged,\n",
        "    geographic_region = geographic_region,\n",
        "    geographic_location = geographic_location,\n",
        "    submitter_country = submitter_country,\n",
        "    min_collection_date = min_collection_date,\n",
        "    max_collection_date = max_collection_date,\n",
        "    annotated = annotated,\n",
        "    source_database = source_database,\n",
        "    min_release_date = min_release_date,\n",
        "    max_release_date = max_release_date,\n",
        "    min_mature_peptide_count = min_mature_peptide_count,\n",
        "    max_mature_peptide_count = max_mature_peptide_count,\n",
        "    min_protein_count = min_protein_count,\n",
        "    max_protein_count = max_protein_count,\n",
        "    max_ambiguous_chars = max_ambiguous_chars\n",
        ")"
      ]
    },
    {
      "cell_type": "markdown",
      "source": [
        "___\n",
        "# Show metadata"
      ],
      "metadata": {
        "id": "MfhZBzcMDIX2"
      }
    },
    {
      "cell_type": "code",
      "source": [
        "import pandas as pd\n",
        "pd.set_option('display.max_columns', None)\n",
        "pd.set_option('display.max_rows', None)"
      ],
      "metadata": {
        "id": "-KC3CPuPDIek"
      },
      "execution_count": null,
      "outputs": []
    },
    {
      "cell_type": "code",
      "source": [
        "metadata = pd.read_csv(f\"{'_'.join(virus.split(' '))}_metadata.csv\")\n",
        "metadata"
      ],
      "metadata": {
        "id": "008lOMbPDOOE"
      },
      "execution_count": null,
      "outputs": []
    },
    {
      "cell_type": "markdown",
      "source": [
        "___\n",
        "# Align viral sequences to reference and return identity percentages\n",
        "NOTE: All of the code below will be wrapped into a new gget.mafft module, so the cells below will become one command: `gget.mafft(query_fasta, reference_fasta)`"
      ],
      "metadata": {
        "id": "xKJYrog01skF"
      }
    },
    {
      "cell_type": "code",
      "execution_count": null,
      "metadata": {
        "id": "kkDLta4bos7Z"
      },
      "outputs": [],
      "source": [
        "%%time\n",
        "#Installing MAFFT\n",
        "!apt-get install -qq -y mafft\n",
        "\n",
        "# Aligning sequences to each other using mafft\n",
        "\n",
        "query_fasta = f\"{virus}_sequences.fasta\"\n",
        "reference_fasta = reference\n",
        "mafft_output = f\"{virus}_alignment.fasta\"\n",
        "\n",
        "!mafft \\\n",
        "  --quiet \\\n",
        "  --auto \\\n",
        "  --thread 2 \\\n",
        "  $reference_fasta $query_fasta > $mafft_output"
      ]
    },
    {
      "cell_type": "code",
      "source": [
        "# Code to compute identity percentages and other stats from mafft alignment output\n",
        "import pandas as pd\n",
        "\n",
        "def read_fasta(file_path):\n",
        "    sequences = {}\n",
        "    with open(file_path, 'r') as file:\n",
        "        sequence_id = None\n",
        "        sequence_data = []\n",
        "\n",
        "        for line in file:\n",
        "            line = line.strip()\n",
        "            if line.startswith(\">\"):\n",
        "                if sequence_id:\n",
        "                    sequences[sequence_id] = ''.join(sequence_data)\n",
        "                sequence_id = line[1:]  # Remove the \">\" and get the sequence ID\n",
        "                sequence_data = []\n",
        "            else:\n",
        "                sequence_data.append(line)\n",
        "\n",
        "        if sequence_id:\n",
        "            sequences[sequence_id] = ''.join(sequence_data)\n",
        "\n",
        "    return sequences\n",
        "\n",
        "\n",
        "def calculate_identity(seq1, seq2):\n",
        "    \"\"\"Calculates identity percentage, number of matches, and gaps between two sequences.\"\"\"\n",
        "    if len(seq1) != len(seq2):\n",
        "        raise ValueError(\"The aligned sequences must be of equal length\")\n",
        "\n",
        "    matches = sum(res1 == res2 for res1, res2 in zip(seq1, seq2) if res1 != '-' and res2 != '-')\n",
        "    total_positions = sum(res1 != '-' and res2 != '-' for res1, res2 in zip(seq1, seq2))\n",
        "    gaps = sum(res1 == '-' or res2 == '-' for res1, res2 in zip(seq1, seq2))\n",
        "\n",
        "    identity_percentage = (matches / total_positions) * 100 if total_positions > 0 else 0\n",
        "    return identity_percentage, matches, gaps, len(seq1), len(seq2)\n",
        "\n",
        "\n",
        "def calculate_multiple_identity(alignment_file):\n",
        "    sequences = read_fasta(alignment_file)\n",
        "\n",
        "    # Ensure at least one reference and one query sequence\n",
        "    if len(sequences) < 2:\n",
        "        raise ValueError(\"The alignment file must contain at least two sequences\")\n",
        "\n",
        "    # Assume the first sequence is the reference\n",
        "    reference_id = list(sequences.keys())[0]\n",
        "    reference_seq = sequences[reference_id]\n",
        "\n",
        "    # Prepare results as a list of dictionaries (to convert to DataFrame later)\n",
        "    results = []\n",
        "\n",
        "    for query_id, query_seq in list(sequences.items())[1:]:\n",
        "        identity_percentage, matches, gaps, ref_length, query_length = calculate_identity(reference_seq, query_seq)\n",
        "\n",
        "        result = {\n",
        "            \"Query_ID\": query_id,\n",
        "            \"Reference_ID\": reference_id,\n",
        "            \"Identity_Percentage\": identity_percentage,\n",
        "            \"Exact_Matches\": matches,\n",
        "            \"Gaps\": gaps,\n",
        "            \"Query_Length\": query_length,\n",
        "            \"Reference_Length\": ref_length,\n",
        "        }\n",
        "        results.append(result)\n",
        "\n",
        "    # Convert the list of dictionaries into a pandas DataFrame\n",
        "    df = pd.DataFrame(results)\n",
        "    return df"
      ],
      "metadata": {
        "id": "VaGJYaeG1rRV"
      },
      "execution_count": null,
      "outputs": []
    },
    {
      "cell_type": "code",
      "source": [
        "# Compute and save identity percentages\n",
        "identity_df = calculate_multiple_identity(mafft_output)\n",
        "# Save results to CSV\n",
        "identity_df.to_csv(f\"{virus}_alignment_results.csv\", index=False)\n",
        "\n",
        "identity_df"
      ],
      "metadata": {
        "id": "wc0KvHnv03Dz"
      },
      "execution_count": null,
      "outputs": []
    },
    {
      "cell_type": "markdown",
      "source": [
        "___\n",
        "\n",
        "## All done! 🎉\n",
        "To download the files we generated in this notebook to your local computer, click on the folder icon on the left and download files by right clicking a file of interest and selecting 'Download'."
      ],
      "metadata": {
        "id": "DAYD7rBbz168"
      }
    },
    {
      "cell_type": "code",
      "source": [],
      "metadata": {
        "id": "2fDXSydZz3e1"
      },
      "execution_count": null,
      "outputs": []
    }
  ],
  "metadata": {
    "colab": {
      "provenance": [],
      "include_colab_link": true
    },
    "kernelspec": {
      "display_name": "Python 3",
      "name": "python3"
    },
    "language_info": {
      "name": "python"
    }
  },
  "nbformat": 4,
  "nbformat_minor": 0
}