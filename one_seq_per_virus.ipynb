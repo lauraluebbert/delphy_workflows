{
  "cells": [
    {
      "cell_type": "markdown",
      "metadata": {
        "id": "view-in-github",
        "colab_type": "text"
      },
      "source": [
        "<a href=\"https://colab.research.google.com/github/lauraluebbert/delphy_workflows/blob/main/one_seq_per_virus.ipynb\" target=\"_parent\"><img src=\"https://colab.research.google.com/assets/colab-badge.svg\" alt=\"Open In Colab\"/></a>"
      ]
    },
    {
      "cell_type": "markdown",
      "metadata": {
        "id": "ej4vLF8GBtT_"
      },
      "source": [
        "# Get the longest sequence for each human-infecting virus from [NCBI Virus](https://www.ncbi.nlm.nih.gov/labs/virus/vssi/#/) using [gget](https://pachterlab.github.io/gget/)\n",
        "___"
      ]
    },
    {
      "cell_type": "markdown",
      "source": [
        "## 1. Select your virus of interest and apply filters to the genomes downloaded from NCBI virus"
      ],
      "metadata": {
        "id": "sWOSpHI-iGVO"
      }
    },
    {
      "cell_type": "code",
      "execution_count": 5,
      "metadata": {
        "id": "ejZfJHDLBpVv"
      },
      "outputs": [],
      "source": [
        "virus = 10239                      # 10239 is the NCBI taxid for all viruses\n",
        "accession = False                  # If 'virus' is an NCBI accession instead of a taxon (e.g. 'NC_045512.2'), set this to True\n",
        "\n",
        "# Commonly used filtering options (set any filter to None to turn off the filter):\n",
        "host = 'homo sapiens'             # Example: 'homo sapiens' (alternatively: use the host_taxid filter below)\n",
        "min_seq_length = None             # Example: 6252\n",
        "max_seq_length = None             # Example: 7815\n",
        "\n",
        "has_proteins = None               # Example: 'GPC' or 'L' or ['GPC', 'L'] (also accepts genes or segments)\n",
        "proteins_complete = False         # True or False (indicates whether the proteins/genes/segments in has_proteins should be marked 'complete')\n",
        "\n",
        "geographic_location = None        # Example: 'South_Africa' or 'Germany'\n",
        "min_collection_date = None        # Example: '2000-01-01'\n",
        "max_collection_date = None        # Example: '2014-12-04'\n",
        "max_ambiguous_chars = None        # Example: 10\n",
        "\n",
        "# Additional filtering options:\n",
        "min_gene_count = None             # Example: 1\n",
        "max_gene_count = None             # Example: 40\n",
        "nuc_completeness = None           # 'partial' or 'complete'\n",
        "host_taxid = None                 # Example: 9443 (NCBI Taxonomy ID of all primates)\n",
        "lab_passaged = None               # True or False (indicates whether the virus sequence has been passaged in a laboratory setting)\n",
        "geographic_region = None          # Example: 'Africa' or 'Europe'\n",
        "submitter_country = None          # Example: 'South_Africa' or 'Germany'\n",
        "annotated = None                  # True or False (indicates whether the virus genome sequence should be annotated)\n",
        "source_database = None            # Example: 'GenBank' or 'RefSeq'\n",
        "min_release_date = None           # Example: '2000-01-01'\n",
        "max_release_date = None           # Example: '2014-12-04'\n",
        "min_mature_peptide_count = None   # Example: 2\n",
        "max_mature_peptide_count = None   # Example: 15\n",
        "min_protein_count = None          # Example: 2\n",
        "max_protein_count = None          # Example: 15"
      ]
    },
    {
      "cell_type": "markdown",
      "source": [
        "## 2. Click on 'Runtime' -> 'Run all' and lean back\n",
        "___"
      ],
      "metadata": {
        "id": "UTL55NF2jAj-"
      }
    },
    {
      "cell_type": "markdown",
      "metadata": {
        "id": "GAljcjWNxssy"
      },
      "source": [
        "### Installing gget:"
      ]
    },
    {
      "cell_type": "code",
      "execution_count": 6,
      "metadata": {
        "id": "DagUmlWZvTfz",
        "outputId": "b032e626-b29d-4fd8-e123-8917ee93fce0",
        "colab": {
          "base_uri": "https://localhost:8080/"
        }
      },
      "outputs": [
        {
          "output_type": "stream",
          "name": "stdout",
          "text": [
            "\u001b[31mERROR: pip's dependency resolver does not currently take into account all the packages that are installed. This behaviour is the source of the following dependency conflicts.\n",
            "gget 0.29.1 requires mysql-connector-python>=8.0.32, but you have mysql-connector-python 8.0.29 which is incompatible.\u001b[0m\u001b[31m\n",
            "\u001b[0m  Preparing metadata (setup.py) ... \u001b[?25l\u001b[?25hdone\n"
          ]
        }
      ],
      "source": [
        "# After the release, this will just be: pip install gget\n",
        "!pip install -q mysql-connector-python==8.0.29 biopython\n",
        "!pip install -q --log log git+https://github.com/pachterlab/gget.git@delphy_dev\n",
        "\n",
        "import gget"
      ]
    },
    {
      "cell_type": "markdown",
      "metadata": {
        "id": "GLnuvH8Xx-jr"
      },
      "source": [
        "Full descriptions for the filtering options:"
      ]
    },
    {
      "cell_type": "code",
      "execution_count": 7,
      "metadata": {
        "id": "ZihmEChGx9j6",
        "outputId": "ded114fa-a232-4bbd-f3fc-4369f7877f56",
        "colab": {
          "base_uri": "https://localhost:8080/"
        }
      },
      "outputs": [
        {
          "output_type": "stream",
          "name": "stdout",
          "text": [
            "Help on function ncbi_virus in module gget.gget_ncbi_virus:\n",
            "\n",
            "ncbi_virus(virus, accession=False, outfolder=None, host=None, min_seq_length=None, max_seq_length=None, min_gene_count=None, max_gene_count=None, nuc_completeness=None, has_proteins=None, proteins_complete=False, host_taxid=None, lab_passaged=None, geographic_region=None, geographic_location=None, submitter_country=None, min_collection_date=None, max_collection_date=None, annotated=None, source_database=None, min_release_date=None, max_release_date=None, min_mature_peptide_count=None, max_mature_peptide_count=None, min_protein_count=None, max_protein_count=None, max_ambiguous_chars=None)\n",
            "    Download a virus genome dataset from the NCBI Virus database (https://www.ncbi.nlm.nih.gov/labs/virus/).\n",
            "    \n",
            "    Args:\n",
            "    - virus                Virus taxon or accession, e.g. 'Norovirus' or 'coronaviridae' or\n",
            "                           '11320' (taxid of Influenza A virus) or 'NC_045512.2'\n",
            "                           If this input is a virus NCBI accession (e.g. 'NC_045512.2'), set accession = True.\n",
            "    - accession            True/False whether 'virus' is an accession. Default: False\n",
            "    - outfolder            Path to folder to save the requested data in, e.g. 'path/to/norovirus_folder'.\n",
            "                           Default: None (saves output into current working directory)\n",
            "    \n",
            "    Filters:\n",
            "    - host                 Host organism, e.g. 'homo sapiens'. Default: None\n",
            "    - min_seq_length       Min length of the returned sequences, e.g. 6252. Default: None\n",
            "    - max_seq_length       Max length of the returned sequences, e.g. 7500. Default: None\n",
            "    - min_gene_count       Min number of genes present in the virus genome, e.g. 1. Default: None\n",
            "    - max_gene_count       Max number of genes present in the virus genome, e.g. 40. Default: None\n",
            "    - nuc_completeness     Completeness status of the nucleotide sequence. Should be 'partial' or 'complete'. Default: None\n",
            "    - has_proteins         Str or list of proteins, genes, or segments that should be present in the sequence\n",
            "                           (based on sequence annotation provided by the submitter). Default: None\n",
            "                           Note: Set proteins_complete=True to only include sequences for which the proteins/genes/segments are marked 'complete'\n",
            "    - proteins_complete    True/False whether proteins/genes/segments in has_proteins should be marked as complete. Default: False\n",
            "    - host_taxid           NCBI Taxonomy ID of the host organism. Filters the results to only include viruses\n",
            "                           associated with hosts that fall within the specified TaxID. Default: None\n",
            "    - lab_passaged         True/False Indicates whether the virus sequence has been passaged in a laboratory setting.\n",
            "                           Default: None\n",
            "    - geographic_region    The geographic region where the virus was identified or isolated, e.g. 'Africa' or 'Europe'.\n",
            "                           Default: None\n",
            "    - geographic_location  The specific geographic location (e.g., country or area) where the virus was identified or\n",
            "                           isolated, e.g. 'South_Africa'. Default: None\n",
            "    - submitter_country    The country of the submitter of the virus sequence data. Filters results by the specified country,\n",
            "                           e.g. 'South_Africa' or 'Germany'. Default: None\n",
            "    - min_collection_date  The earliest collection date (in 'YYYY-MM-DD' format). Samples collected before this date will be\n",
            "                           excluded. Example: '2000-01-01'.  Default: None\n",
            "    - max_collection_date  The latest collection date (in 'YYYY-MM-DD' format). Samples collected after this date will be\n",
            "                           excluded. Example: '2014-12-04'. Default: None\n",
            "    - annotated            True/False Indicates whether the virus genome sequence is annotated. Default: None\n",
            "    - source_database      The source database from which the virus sequences originate, e.g. 'GenBank'.\n",
            "                           Default: None\n",
            "    - min_release_date     The earliest release date (in 'YYYY-MM-DD' format) of the virus sequence data. Sequences released\n",
            "                           before this date will be excluded. Default: None\n",
            "    - max_release_date     The latest release date (in 'YYYY-MM-DD' format) of the virus sequence data. Sequences released\n",
            "                           after this date will be excluded. Default: None\n",
            "    - min_mature_peptide_count    Min number of mature peptides present in the virus genome. Default: None\n",
            "    - max_mature_peptide_count    Max number of mature peptides present in the virus genome. Default: None\n",
            "    - min_protein_count    Min number of proteins present in the virus genome. Default: None\n",
            "    - max_protein_count    Max number of proteins present in the virus genome. Default: None\n",
            "    - max_ambiguous_chars  Max number of ambiguous nucleotide characters ('n' or 'N') allowed in the sequences, e.g. 50.\n",
            "                           Default: None\n",
            "    \n",
            "    Returns a fasta file containing the requested sequences and .csv and .jsonl files containing the associated metadata.\n",
            "\n"
          ]
        }
      ],
      "source": [
        "help(gget.ncbi_virus)"
      ]
    },
    {
      "cell_type": "markdown",
      "metadata": {
        "id": "5B5W5ioCy3AR"
      },
      "source": [
        "### Downloading virus genomes from NCBI Virus:"
      ]
    },
    {
      "cell_type": "markdown",
      "metadata": {
        "id": "1Bvvj2mtn49X"
      },
      "source": [
        "This might take a minute depending on the internet connection and how busy the NCBI server is."
      ]
    },
    {
      "cell_type": "code",
      "execution_count": null,
      "metadata": {
        "id": "vwDIiw3-yEtP"
      },
      "outputs": [],
      "source": [
        "%%time\n",
        "gget.ncbi_virus(\n",
        "    virus = virus,\n",
        "    accession = accession,\n",
        "    host = host,\n",
        "    min_seq_length = min_seq_length,\n",
        "    max_seq_length = max_seq_length,\n",
        "    min_gene_count = min_gene_count,\n",
        "    max_gene_count = max_gene_count,\n",
        "    nuc_completeness = nuc_completeness,\n",
        "    has_proteins = has_proteins,\n",
        "    proteins_complete = proteins_complete,\n",
        "    host_taxid = host_taxid,\n",
        "    lab_passaged = lab_passaged,\n",
        "    geographic_region = geographic_region,\n",
        "    geographic_location = geographic_location,\n",
        "    submitter_country = submitter_country,\n",
        "    min_collection_date = min_collection_date,\n",
        "    max_collection_date = max_collection_date,\n",
        "    annotated = annotated,\n",
        "    source_database = source_database,\n",
        "    min_release_date = min_release_date,\n",
        "    max_release_date = max_release_date,\n",
        "    min_mature_peptide_count = min_mature_peptide_count,\n",
        "    max_mature_peptide_count = max_mature_peptide_count,\n",
        "    min_protein_count = min_protein_count,\n",
        "    max_protein_count = max_protein_count,\n",
        "    max_ambiguous_chars = max_ambiguous_chars\n",
        ")"
      ]
    },
    {
      "cell_type": "code",
      "source": [
        "# Keep only the longest sequence for each virus\n",
        "!pip install -q biopython\n",
        "from Bio import SeqIO\n",
        "import pandas as pd\n",
        "\n",
        "df_meta = pd.read_csv(f\"/content/{'_'.join(virus.split(' '))}_metadata.csv\")\n",
        "\n",
        "sort_by = 'Length'\n",
        "acc_to_keep = []\n",
        "for virus in df_meta[\"Organism Name\"].unique():\n",
        "  acc_to_keep.append(df_meta[df_meta[\"Organism Name\"] == virus].sort_values(sort_by, ascending=False)[\"accession\"].values[0])\n",
        "\n",
        "def filter_fasta_by_accessions(fasta_file, accessions, output_file):\n",
        "    # Open the output file to write filtered sequences\n",
        "    with open(output_file, 'w') as output_handle:\n",
        "        # Iterate over the sequences in the FASTA file\n",
        "        for record in SeqIO.parse(fasta_file, \"fasta\"):\n",
        "            # Check if the accession (ID) is in the list\n",
        "            if record.id in accessions:\n",
        "                # Write the record to the output file\n",
        "                SeqIO.write(record, output_handle, \"fasta\")\n",
        "\n",
        "fasta_input = f\"/content/{'_'.join(virus.split(' '))}_sequences.fasta\"\n",
        "fasta_output = f\"/content/{'_'.join(virus.split(' '))}_sequences_filtered.fasta\"\n",
        "\n",
        "filter_fasta_by_accessions(fasta_input, acc_to_keep, fasta_output)"
      ],
      "metadata": {
        "id": "nd5Vn4m8g2Cw"
      },
      "execution_count": null,
      "outputs": []
    },
    {
      "cell_type": "markdown",
      "metadata": {
        "id": "H8W4ESuFoA9W"
      },
      "source": [
        "___\n",
        "# All done! 🎉\n",
        "\n",
        "### To download the files we generated in this notebook to your local computer, click on the folder icon on the left and download files by right clicking a file of interest and selecting 'Download'."
      ]
    },
    {
      "cell_type": "code",
      "execution_count": null,
      "metadata": {
        "id": "kkDLta4bos7Z"
      },
      "outputs": [],
      "source": []
    }
  ],
  "metadata": {
    "colab": {
      "provenance": [],
      "include_colab_link": true
    },
    "kernelspec": {
      "display_name": "Python 3",
      "name": "python3"
    },
    "language_info": {
      "name": "python"
    }
  },
  "nbformat": 4,
  "nbformat_minor": 0
}